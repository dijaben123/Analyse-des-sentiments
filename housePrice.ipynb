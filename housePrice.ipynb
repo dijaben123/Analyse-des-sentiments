{
  "cells": [
    {
      "cell_type": "markdown",
      "metadata": {
        "id": "view-in-github",
        "colab_type": "text"
      },
      "source": [
        "<a href=\"https://colab.research.google.com/github/dijaben123/Analyse-des-sentiments/blob/main/housePrice.ipynb\" target=\"_parent\"><img src=\"https://colab.research.google.com/assets/colab-badge.svg\" alt=\"Open In Colab\"/></a>"
      ]
    },
    {
      "cell_type": "code",
      "execution_count": null,
      "metadata": {
        "id": "WrKF6h_at8KC"
      },
      "outputs": [],
      "source": [
        "# import usefull libraries\n",
        "import numpy as np\n",
        "import pandas as pd\n",
        "import matplotlib.pyplot as plt\n",
        "import seaborn as sns"
      ]
    },
    {
      "cell_type": "code",
      "execution_count": null,
      "metadata": {
        "colab": {
          "base_uri": "https://localhost:8080/"
        },
        "id": "-CbsADK0VcG-",
        "outputId": "65eb6672-7080-4463-8cf6-6f5c11d3af67"
      },
      "outputs": [
        {
          "name": "stdout",
          "output_type": "stream",
          "text": [
            "Drive already mounted at /content/drive; to attempt to forcibly remount, call drive.mount(\"/content/drive\", force_remount=True).\n"
          ]
        }
      ],
      "source": [
        "from google.colab import drive\n",
        "drive.mount('/content/drive')"
      ]
    },
    {
      "cell_type": "code",
      "execution_count": null,
      "metadata": {
        "colab": {
          "base_uri": "https://localhost:8080/"
        },
        "id": "mVsTSp8HVJwc",
        "outputId": "0dd7b36c-d65f-4b0c-996e-b27cefc0b1fb"
      },
      "outputs": [
        {
          "name": "stdout",
          "output_type": "stream",
          "text": [
            "ref                                                            title                                                size  lastUpdated          downloadCount  voteCount  usabilityRating  \n",
            "-------------------------------------------------------------  --------------------------------------------------  -----  -------------------  -------------  ---------  ---------------  \n",
            "meirnizri/covid19-dataset                                      COVID-19 Dataset                                      5MB  2022-11-13 15:47:17           8820        261  1.0              \n",
            "mattop/alcohol-consumption-per-capita-2016                     Alcohol Consumption Per Capita 2016                   4KB  2022-12-09 00:03:11            833         29  1.0              \n",
            "thedevastator/jobs-dataset-from-glassdoor                      Salary Prediction                                     3MB  2022-11-16 13:52:31           5672        124  1.0              \n",
            "swaptr/fifa-world-cup-2022-statistics                          FIFA World Cup 2022 Team Data                        15KB  2022-12-11 22:08:40           1847         50  0.9705882        \n",
            "elmoallistair/emmision-of-air-pollutants                       Emmision of Air Pollutants                            1MB  2022-12-08 07:25:01            683         26  1.0              \n",
            "whenamancodes/predict-diabities                                Predict Diabetes                                      9KB  2022-11-09 12:18:49           5798        103  1.0              \n",
            "mvieira101/global-cost-of-living                               Global Cost of Living                                 1MB  2022-12-03 16:37:53           2202         52  0.9705882        \n",
            "die9origephit/fifa-world-cup-2022-complete-dataset             Fifa World Cup 2022: Complete Dataset                 7KB  2022-12-11 16:54:08           1108         55  0.9411765        \n",
            "tirendazacademy/fifa-world-cup-2022-tweets                     FIFA World Cup 2022 Tweets                            1MB  2022-12-08 19:43:37            632         28  1.0              \n",
            "thedevastator/australian-housing-data-1000-properties-sampled  Australian Housing Prices                            51KB  2022-11-28 13:19:40            936         24  1.0              \n",
            "laibaanwer/superstore-sales-dataset                            SuperStore Sales Dataset                              2MB  2022-12-07 08:53:32            755         26  1.0              \n",
            "madhurpant/world-deaths-and-causes-1990-2019                   World Deaths and Causes (1990 - 2019)               442KB  2022-11-29 07:09:27           1650         39  1.0              \n",
            "prosperchuks/health-dataset                                    Diabetes, Hypertension and Stroke Prediction        750KB  2022-12-13 13:15:19           2610         60  1.0              \n",
            "akshaydattatraykhare/data-for-admission-in-the-university      Data for Admission in the University                  4KB  2022-10-27 11:05:45           9095        193  1.0              \n",
            "thedevastator/cancer-patients-and-air-pollution-a-new-link      Lung Cancer Prediction                               7KB  2022-11-14 13:40:40           3475         75  1.0              \n",
            "catherinerasgaitis/mxmh-survey-results                         Music & Mental Health Survey Results                 22KB  2022-11-21 10:03:12           2206         48  1.0              \n",
            "tusharaggarwal27/2022-dec-world-populations                    World Population By Countries ((1970)) to ((2050))   19KB  2022-12-08 02:23:40            809         35  1.0              \n",
            "williecosta/economic-guide-to-college-majors                   Economic Guide to College Majors (data from 538)     11KB  2022-12-01 00:03:23            590         26  1.0              \n",
            "theakhilb/layoffs-data-2022                                    Layoffs Dataset 2022                                104KB  2022-12-12 05:40:34           1141         32  1.0              \n",
            "dbarteaux99/stable-diffusion-1-5                               Stable Diffusion 1.5 (normal and EMAonly) with vae    7GB  2022-10-23 15:40:29            205         21  0.9375           \n"
          ]
        }
      ],
      "source": [
        "!rm -r ~/.kaggle\n",
        "!mkdir ~/.kaggle\n",
        "!cp /content/drive/MyDrive/kaggle_token/kaggle.json ~/.kaggle/\n",
        "!chmod 600 ~/.kaggle/kaggle.json\n",
        "!kaggle datasets list"
      ]
    },
    {
      "cell_type": "code",
      "execution_count": null,
      "metadata": {
        "colab": {
          "base_uri": "https://localhost:8080/"
        },
        "id": "lPEcUsOJTqn1",
        "outputId": "89221676-5f40-413e-d056-9b79a99698bd"
      },
      "outputs": [
        {
          "name": "stdout",
          "output_type": "stream",
          "text": [
            "house-prices-advanced-regression-techniques.zip: Skipping, found more recently modified local copy (use --force to force download)\n"
          ]
        }
      ],
      "source": [
        "! kaggle competitions download -c house-prices-advanced-regression-techniques"
      ]
    },
    {
      "cell_type": "code",
      "execution_count": null,
      "metadata": {
        "id": "P1rctz-RVk1s"
      },
      "outputs": [],
      "source": [
        "import zipfile\n",
        "with zipfile.ZipFile(\"house-prices-advanced-regression-techniques.zip\", \"r\") as zip_ref:\n",
        "    zip_ref.extractall(\"./datakaggle\")"
      ]
    },
    {
      "cell_type": "code",
      "execution_count": null,
      "metadata": {
        "colab": {
          "base_uri": "https://localhost:8080/"
        },
        "id": "-uSTA_v0WOW1",
        "outputId": "25ff7dc1-9740-41e4-ec12-9fd1c3e50982"
      },
      "outputs": [
        {
          "name": "stdout",
          "output_type": "stream",
          "text": [
            "data_description.txt  sample_submission.csv  test.csv  train.csv\n"
          ]
        }
      ],
      "source": [
        "!ls \"./datakaggle/\""
      ]
    },
    {
      "cell_type": "code",
      "execution_count": null,
      "metadata": {
        "id": "CLbG0jfnV2rT"
      },
      "outputs": [],
      "source": [
        "data=pd.read_csv('./datakaggle/train.csv')"
      ]
    },
    {
      "cell_type": "markdown",
      "metadata": {
        "id": "w01mHlidL-ip"
      },
      "source": [
        "#Prétraitement de données"
      ]
    },
    {
      "cell_type": "markdown",
      "metadata": {
        "id": "lvengV-RMPoa"
      },
      "source": [
        "### Netoyage de train_Set"
      ]
    },
    {
      "cell_type": "code",
      "execution_count": null,
      "metadata": {
        "colab": {
          "base_uri": "https://localhost:8080/"
        },
        "id": "LAyHvV8uYtpA",
        "outputId": "6213ef29-ddaf-47cc-efa2-488f948a7c69"
      },
      "outputs": [
        {
          "data": {
            "text/html": [
              "\n",
              "  <div id=\"df-240f8e5f-601a-4673-90fc-d817edf3ffd9\">\n",
              "    <div class=\"colab-df-container\">\n",
              "      <div>\n",
              "<style scoped>\n",
              "    .dataframe tbody tr th:only-of-type {\n",
              "        vertical-align: middle;\n",
              "    }\n",
              "\n",
              "    .dataframe tbody tr th {\n",
              "        vertical-align: top;\n",
              "    }\n",
              "\n",
              "    .dataframe thead th {\n",
              "        text-align: right;\n",
              "    }\n",
              "</style>\n",
              "<table border=\"1\" class=\"dataframe\">\n",
              "  <thead>\n",
              "    <tr style=\"text-align: right;\">\n",
              "      <th></th>\n",
              "      <th>Id</th>\n",
              "      <th>MSSubClass</th>\n",
              "      <th>MSZoning</th>\n",
              "      <th>LotFrontage</th>\n",
              "      <th>LotArea</th>\n",
              "      <th>Street</th>\n",
              "      <th>Alley</th>\n",
              "      <th>LotShape</th>\n",
              "      <th>LandContour</th>\n",
              "      <th>Utilities</th>\n",
              "      <th>...</th>\n",
              "      <th>PoolArea</th>\n",
              "      <th>PoolQC</th>\n",
              "      <th>Fence</th>\n",
              "      <th>MiscFeature</th>\n",
              "      <th>MiscVal</th>\n",
              "      <th>MoSold</th>\n",
              "      <th>YrSold</th>\n",
              "      <th>SaleType</th>\n",
              "      <th>SaleCondition</th>\n",
              "      <th>SalePrice</th>\n",
              "    </tr>\n",
              "  </thead>\n",
              "  <tbody>\n",
              "    <tr>\n",
              "      <th>0</th>\n",
              "      <td>1</td>\n",
              "      <td>60</td>\n",
              "      <td>RL</td>\n",
              "      <td>65.0</td>\n",
              "      <td>8450</td>\n",
              "      <td>Pave</td>\n",
              "      <td>NaN</td>\n",
              "      <td>Reg</td>\n",
              "      <td>Lvl</td>\n",
              "      <td>AllPub</td>\n",
              "      <td>...</td>\n",
              "      <td>0</td>\n",
              "      <td>NaN</td>\n",
              "      <td>NaN</td>\n",
              "      <td>NaN</td>\n",
              "      <td>0</td>\n",
              "      <td>2</td>\n",
              "      <td>2008</td>\n",
              "      <td>WD</td>\n",
              "      <td>Normal</td>\n",
              "      <td>208500</td>\n",
              "    </tr>\n",
              "    <tr>\n",
              "      <th>1</th>\n",
              "      <td>2</td>\n",
              "      <td>20</td>\n",
              "      <td>RL</td>\n",
              "      <td>80.0</td>\n",
              "      <td>9600</td>\n",
              "      <td>Pave</td>\n",
              "      <td>NaN</td>\n",
              "      <td>Reg</td>\n",
              "      <td>Lvl</td>\n",
              "      <td>AllPub</td>\n",
              "      <td>...</td>\n",
              "      <td>0</td>\n",
              "      <td>NaN</td>\n",
              "      <td>NaN</td>\n",
              "      <td>NaN</td>\n",
              "      <td>0</td>\n",
              "      <td>5</td>\n",
              "      <td>2007</td>\n",
              "      <td>WD</td>\n",
              "      <td>Normal</td>\n",
              "      <td>181500</td>\n",
              "    </tr>\n",
              "    <tr>\n",
              "      <th>2</th>\n",
              "      <td>3</td>\n",
              "      <td>60</td>\n",
              "      <td>RL</td>\n",
              "      <td>68.0</td>\n",
              "      <td>11250</td>\n",
              "      <td>Pave</td>\n",
              "      <td>NaN</td>\n",
              "      <td>IR1</td>\n",
              "      <td>Lvl</td>\n",
              "      <td>AllPub</td>\n",
              "      <td>...</td>\n",
              "      <td>0</td>\n",
              "      <td>NaN</td>\n",
              "      <td>NaN</td>\n",
              "      <td>NaN</td>\n",
              "      <td>0</td>\n",
              "      <td>9</td>\n",
              "      <td>2008</td>\n",
              "      <td>WD</td>\n",
              "      <td>Normal</td>\n",
              "      <td>223500</td>\n",
              "    </tr>\n",
              "    <tr>\n",
              "      <th>3</th>\n",
              "      <td>4</td>\n",
              "      <td>70</td>\n",
              "      <td>RL</td>\n",
              "      <td>60.0</td>\n",
              "      <td>9550</td>\n",
              "      <td>Pave</td>\n",
              "      <td>NaN</td>\n",
              "      <td>IR1</td>\n",
              "      <td>Lvl</td>\n",
              "      <td>AllPub</td>\n",
              "      <td>...</td>\n",
              "      <td>0</td>\n",
              "      <td>NaN</td>\n",
              "      <td>NaN</td>\n",
              "      <td>NaN</td>\n",
              "      <td>0</td>\n",
              "      <td>2</td>\n",
              "      <td>2006</td>\n",
              "      <td>WD</td>\n",
              "      <td>Abnorml</td>\n",
              "      <td>140000</td>\n",
              "    </tr>\n",
              "    <tr>\n",
              "      <th>4</th>\n",
              "      <td>5</td>\n",
              "      <td>60</td>\n",
              "      <td>RL</td>\n",
              "      <td>84.0</td>\n",
              "      <td>14260</td>\n",
              "      <td>Pave</td>\n",
              "      <td>NaN</td>\n",
              "      <td>IR1</td>\n",
              "      <td>Lvl</td>\n",
              "      <td>AllPub</td>\n",
              "      <td>...</td>\n",
              "      <td>0</td>\n",
              "      <td>NaN</td>\n",
              "      <td>NaN</td>\n",
              "      <td>NaN</td>\n",
              "      <td>0</td>\n",
              "      <td>12</td>\n",
              "      <td>2008</td>\n",
              "      <td>WD</td>\n",
              "      <td>Normal</td>\n",
              "      <td>250000</td>\n",
              "    </tr>\n",
              "    <tr>\n",
              "      <th>5</th>\n",
              "      <td>6</td>\n",
              "      <td>50</td>\n",
              "      <td>RL</td>\n",
              "      <td>85.0</td>\n",
              "      <td>14115</td>\n",
              "      <td>Pave</td>\n",
              "      <td>NaN</td>\n",
              "      <td>IR1</td>\n",
              "      <td>Lvl</td>\n",
              "      <td>AllPub</td>\n",
              "      <td>...</td>\n",
              "      <td>0</td>\n",
              "      <td>NaN</td>\n",
              "      <td>MnPrv</td>\n",
              "      <td>Shed</td>\n",
              "      <td>700</td>\n",
              "      <td>10</td>\n",
              "      <td>2009</td>\n",
              "      <td>WD</td>\n",
              "      <td>Normal</td>\n",
              "      <td>143000</td>\n",
              "    </tr>\n",
              "    <tr>\n",
              "      <th>6</th>\n",
              "      <td>7</td>\n",
              "      <td>20</td>\n",
              "      <td>RL</td>\n",
              "      <td>75.0</td>\n",
              "      <td>10084</td>\n",
              "      <td>Pave</td>\n",
              "      <td>NaN</td>\n",
              "      <td>Reg</td>\n",
              "      <td>Lvl</td>\n",
              "      <td>AllPub</td>\n",
              "      <td>...</td>\n",
              "      <td>0</td>\n",
              "      <td>NaN</td>\n",
              "      <td>NaN</td>\n",
              "      <td>NaN</td>\n",
              "      <td>0</td>\n",
              "      <td>8</td>\n",
              "      <td>2007</td>\n",
              "      <td>WD</td>\n",
              "      <td>Normal</td>\n",
              "      <td>307000</td>\n",
              "    </tr>\n",
              "    <tr>\n",
              "      <th>7</th>\n",
              "      <td>8</td>\n",
              "      <td>60</td>\n",
              "      <td>RL</td>\n",
              "      <td>NaN</td>\n",
              "      <td>10382</td>\n",
              "      <td>Pave</td>\n",
              "      <td>NaN</td>\n",
              "      <td>IR1</td>\n",
              "      <td>Lvl</td>\n",
              "      <td>AllPub</td>\n",
              "      <td>...</td>\n",
              "      <td>0</td>\n",
              "      <td>NaN</td>\n",
              "      <td>NaN</td>\n",
              "      <td>Shed</td>\n",
              "      <td>350</td>\n",
              "      <td>11</td>\n",
              "      <td>2009</td>\n",
              "      <td>WD</td>\n",
              "      <td>Normal</td>\n",
              "      <td>200000</td>\n",
              "    </tr>\n",
              "    <tr>\n",
              "      <th>8</th>\n",
              "      <td>9</td>\n",
              "      <td>50</td>\n",
              "      <td>RM</td>\n",
              "      <td>51.0</td>\n",
              "      <td>6120</td>\n",
              "      <td>Pave</td>\n",
              "      <td>NaN</td>\n",
              "      <td>Reg</td>\n",
              "      <td>Lvl</td>\n",
              "      <td>AllPub</td>\n",
              "      <td>...</td>\n",
              "      <td>0</td>\n",
              "      <td>NaN</td>\n",
              "      <td>NaN</td>\n",
              "      <td>NaN</td>\n",
              "      <td>0</td>\n",
              "      <td>4</td>\n",
              "      <td>2008</td>\n",
              "      <td>WD</td>\n",
              "      <td>Abnorml</td>\n",
              "      <td>129900</td>\n",
              "    </tr>\n",
              "    <tr>\n",
              "      <th>9</th>\n",
              "      <td>10</td>\n",
              "      <td>190</td>\n",
              "      <td>RL</td>\n",
              "      <td>50.0</td>\n",
              "      <td>7420</td>\n",
              "      <td>Pave</td>\n",
              "      <td>NaN</td>\n",
              "      <td>Reg</td>\n",
              "      <td>Lvl</td>\n",
              "      <td>AllPub</td>\n",
              "      <td>...</td>\n",
              "      <td>0</td>\n",
              "      <td>NaN</td>\n",
              "      <td>NaN</td>\n",
              "      <td>NaN</td>\n",
              "      <td>0</td>\n",
              "      <td>1</td>\n",
              "      <td>2008</td>\n",
              "      <td>WD</td>\n",
              "      <td>Normal</td>\n",
              "      <td>118000</td>\n",
              "    </tr>\n",
              "  </tbody>\n",
              "</table>\n",
              "<p>10 rows × 81 columns</p>\n",
              "</div>\n",
              "      <button class=\"colab-df-convert\" onclick=\"convertToInteractive('df-240f8e5f-601a-4673-90fc-d817edf3ffd9')\"\n",
              "              title=\"Convert this dataframe to an interactive table.\"\n",
              "              style=\"display:none;\">\n",
              "        \n",
              "  <svg xmlns=\"http://www.w3.org/2000/svg\" height=\"24px\"viewBox=\"0 0 24 24\"\n",
              "       width=\"24px\">\n",
              "    <path d=\"M0 0h24v24H0V0z\" fill=\"none\"/>\n",
              "    <path d=\"M18.56 5.44l.94 2.06.94-2.06 2.06-.94-2.06-.94-.94-2.06-.94 2.06-2.06.94zm-11 1L8.5 8.5l.94-2.06 2.06-.94-2.06-.94L8.5 2.5l-.94 2.06-2.06.94zm10 10l.94 2.06.94-2.06 2.06-.94-2.06-.94-.94-2.06-.94 2.06-2.06.94z\"/><path d=\"M17.41 7.96l-1.37-1.37c-.4-.4-.92-.59-1.43-.59-.52 0-1.04.2-1.43.59L10.3 9.45l-7.72 7.72c-.78.78-.78 2.05 0 2.83L4 21.41c.39.39.9.59 1.41.59.51 0 1.02-.2 1.41-.59l7.78-7.78 2.81-2.81c.8-.78.8-2.07 0-2.86zM5.41 20L4 18.59l7.72-7.72 1.47 1.35L5.41 20z\"/>\n",
              "  </svg>\n",
              "      </button>\n",
              "      \n",
              "  <style>\n",
              "    .colab-df-container {\n",
              "      display:flex;\n",
              "      flex-wrap:wrap;\n",
              "      gap: 12px;\n",
              "    }\n",
              "\n",
              "    .colab-df-convert {\n",
              "      background-color: #E8F0FE;\n",
              "      border: none;\n",
              "      border-radius: 50%;\n",
              "      cursor: pointer;\n",
              "      display: none;\n",
              "      fill: #1967D2;\n",
              "      height: 32px;\n",
              "      padding: 0 0 0 0;\n",
              "      width: 32px;\n",
              "    }\n",
              "\n",
              "    .colab-df-convert:hover {\n",
              "      background-color: #E2EBFA;\n",
              "      box-shadow: 0px 1px 2px rgba(60, 64, 67, 0.3), 0px 1px 3px 1px rgba(60, 64, 67, 0.15);\n",
              "      fill: #174EA6;\n",
              "    }\n",
              "\n",
              "    [theme=dark] .colab-df-convert {\n",
              "      background-color: #3B4455;\n",
              "      fill: #D2E3FC;\n",
              "    }\n",
              "\n",
              "    [theme=dark] .colab-df-convert:hover {\n",
              "      background-color: #434B5C;\n",
              "      box-shadow: 0px 1px 3px 1px rgba(0, 0, 0, 0.15);\n",
              "      filter: drop-shadow(0px 1px 2px rgba(0, 0, 0, 0.3));\n",
              "      fill: #FFFFFF;\n",
              "    }\n",
              "  </style>\n",
              "\n",
              "      <script>\n",
              "        const buttonEl =\n",
              "          document.querySelector('#df-240f8e5f-601a-4673-90fc-d817edf3ffd9 button.colab-df-convert');\n",
              "        buttonEl.style.display =\n",
              "          google.colab.kernel.accessAllowed ? 'block' : 'none';\n",
              "\n",
              "        async function convertToInteractive(key) {\n",
              "          const element = document.querySelector('#df-240f8e5f-601a-4673-90fc-d817edf3ffd9');\n",
              "          const dataTable =\n",
              "            await google.colab.kernel.invokeFunction('convertToInteractive',\n",
              "                                                     [key], {});\n",
              "          if (!dataTable) return;\n",
              "\n",
              "          const docLinkHtml = 'Like what you see? Visit the ' +\n",
              "            '<a target=\"_blank\" href=https://colab.research.google.com/notebooks/data_table.ipynb>data table notebook</a>'\n",
              "            + ' to learn more about interactive tables.';\n",
              "          element.innerHTML = '';\n",
              "          dataTable['output_type'] = 'display_data';\n",
              "          await google.colab.output.renderOutput(dataTable, element);\n",
              "          const docLink = document.createElement('div');\n",
              "          docLink.innerHTML = docLinkHtml;\n",
              "          element.appendChild(docLink);\n",
              "        }\n",
              "      </script>\n",
              "    </div>\n",
              "  </div>\n",
              "  "
            ],
            "text/plain": [
              "   Id  MSSubClass MSZoning  LotFrontage  LotArea Street Alley LotShape  \\\n",
              "0   1          60       RL         65.0     8450   Pave   NaN      Reg   \n",
              "1   2          20       RL         80.0     9600   Pave   NaN      Reg   \n",
              "2   3          60       RL         68.0    11250   Pave   NaN      IR1   \n",
              "3   4          70       RL         60.0     9550   Pave   NaN      IR1   \n",
              "4   5          60       RL         84.0    14260   Pave   NaN      IR1   \n",
              "5   6          50       RL         85.0    14115   Pave   NaN      IR1   \n",
              "6   7          20       RL         75.0    10084   Pave   NaN      Reg   \n",
              "7   8          60       RL          NaN    10382   Pave   NaN      IR1   \n",
              "8   9          50       RM         51.0     6120   Pave   NaN      Reg   \n",
              "9  10         190       RL         50.0     7420   Pave   NaN      Reg   \n",
              "\n",
              "  LandContour Utilities  ... PoolArea PoolQC  Fence MiscFeature MiscVal  \\\n",
              "0         Lvl    AllPub  ...        0    NaN    NaN         NaN       0   \n",
              "1         Lvl    AllPub  ...        0    NaN    NaN         NaN       0   \n",
              "2         Lvl    AllPub  ...        0    NaN    NaN         NaN       0   \n",
              "3         Lvl    AllPub  ...        0    NaN    NaN         NaN       0   \n",
              "4         Lvl    AllPub  ...        0    NaN    NaN         NaN       0   \n",
              "5         Lvl    AllPub  ...        0    NaN  MnPrv        Shed     700   \n",
              "6         Lvl    AllPub  ...        0    NaN    NaN         NaN       0   \n",
              "7         Lvl    AllPub  ...        0    NaN    NaN        Shed     350   \n",
              "8         Lvl    AllPub  ...        0    NaN    NaN         NaN       0   \n",
              "9         Lvl    AllPub  ...        0    NaN    NaN         NaN       0   \n",
              "\n",
              "  MoSold YrSold  SaleType  SaleCondition  SalePrice  \n",
              "0      2   2008        WD         Normal     208500  \n",
              "1      5   2007        WD         Normal     181500  \n",
              "2      9   2008        WD         Normal     223500  \n",
              "3      2   2006        WD        Abnorml     140000  \n",
              "4     12   2008        WD         Normal     250000  \n",
              "5     10   2009        WD         Normal     143000  \n",
              "6      8   2007        WD         Normal     307000  \n",
              "7     11   2009        WD         Normal     200000  \n",
              "8      4   2008        WD        Abnorml     129900  \n",
              "9      1   2008        WD         Normal     118000  \n",
              "\n",
              "[10 rows x 81 columns]"
            ]
          },
          "execution_count": 16,
          "metadata": {},
          "output_type": "execute_result"
        }
      ],
      "source": [
        "data.head(10)"
      ]
    },
    {
      "cell_type": "code",
      "execution_count": null,
      "metadata": {
        "colab": {
          "base_uri": "https://localhost:8080/"
        },
        "id": "dLnn62cyZx7B",
        "outputId": "ac9bfd65-733d-4737-b268-08ef6a100fc3"
      },
      "outputs": [
        {
          "data": {
            "text/plain": [
              "1179"
            ]
          },
          "execution_count": 17,
          "metadata": {},
          "output_type": "execute_result"
        }
      ],
      "source": [
        "data[\"Fence\"].isna().sum()"
      ]
    },
    {
      "cell_type": "code",
      "execution_count": null,
      "metadata": {
        "colab": {
          "base_uri": "https://localhost:8080/"
        },
        "id": "idEtsKgH1vtw",
        "outputId": "93f56f37-df8e-45a3-e96a-2bc9beb3e8f4"
      },
      "outputs": [
        {
          "data": {
            "text/plain": [
              "<matplotlib.axes._subplots.AxesSubplot at 0x7fa350e48e50>"
            ]
          },
          "execution_count": 18,
          "metadata": {},
          "output_type": "execute_result"
        },
        {
          "data": {
            "image/png": "[encoded data removed]",
            "text/plain": [
              "<Figure size 432x288 with 1 Axes>"
            ]
          },
          "metadata": {
            "needs_background": "light"
          },
          "output_type": "display_data"
        }
      ],
      "source": [
        "sns.heatmap(data.isnull(),yticklabels=False,cbar=False)"
      ]
    },
    {
      "cell_type": "code",
      "execution_count": null,
      "metadata": {
        "colab": {
          "base_uri": "https://localhost:8080/"
        },
        "id": "AabZh49K1vzW",
        "outputId": "361efab6-0a63-4d06-fd9c-3f162be789d9"
      },
      "outputs": [
        {
          "data": {
            "text/plain": [
              "(1460, 81)"
            ]
          },
          "execution_count": 19,
          "metadata": {},
          "output_type": "execute_result"
        }
      ],
      "source": [
        "data.shape"
      ]
    },
    {
      "cell_type": "code",
      "execution_count": null,
      "metadata": {
        "id": "TVT9SRei2L1g"
      },
      "outputs": [],
      "source": [
        "## Fill Missing Values\n",
        "\n",
        "data['LotFrontage']=data['LotFrontage'].fillna(data['LotFrontage'].mean())"
      ]
    },
    {
      "cell_type": "code",
      "execution_count": null,
      "metadata": {
        "id": "xAFRsLLJ2W7j"
      },
      "outputs": [],
      "source": [
        "data.drop(['Alley'],axis=1,inplace=True)"
      ]
    },
    {
      "cell_type": "code",
      "execution_count": null,
      "metadata": {
        "colab": {
          "base_uri": "https://localhost:8080/"
        },
        "id": "oMsjSoYJ2h5u",
        "outputId": "5d0cd5fd-0c87-41bb-8942-961088de49b0"
      },
      "outputs": [
        {
          "data": {
            "text/html": [
              "\n",
              "  <div id=\"df-2dd69a80-4655-451b-b087-e0f6af8c24f8\">\n",
              "    <div class=\"colab-df-container\">\n",
              "      <div>\n",
              "<style scoped>\n",
              "    .dataframe tbody tr th:only-of-type {\n",
              "        vertical-align: middle;\n",
              "    }\n",
              "\n",
              "    .dataframe tbody tr th {\n",
              "        vertical-align: top;\n",
              "    }\n",
              "\n",
              "    .dataframe thead th {\n",
              "        text-align: right;\n",
              "    }\n",
              "</style>\n",
              "<table border=\"1\" class=\"dataframe\">\n",
              "  <thead>\n",
              "    <tr style=\"text-align: right;\">\n",
              "      <th></th>\n",
              "      <th>Id</th>\n",
              "      <th>MSSubClass</th>\n",
              "      <th>MSZoning</th>\n",
              "      <th>LotFrontage</th>\n",
              "      <th>LotArea</th>\n",
              "      <th>Street</th>\n",
              "      <th>LotShape</th>\n",
              "      <th>LandContour</th>\n",
              "      <th>Utilities</th>\n",
              "      <th>LotConfig</th>\n",
              "      <th>...</th>\n",
              "      <th>PoolArea</th>\n",
              "      <th>PoolQC</th>\n",
              "      <th>Fence</th>\n",
              "      <th>MiscFeature</th>\n",
              "      <th>MiscVal</th>\n",
              "      <th>MoSold</th>\n",
              "      <th>YrSold</th>\n",
              "      <th>SaleType</th>\n",
              "      <th>SaleCondition</th>\n",
              "      <th>SalePrice</th>\n",
              "    </tr>\n",
              "  </thead>\n",
              "  <tbody>\n",
              "    <tr>\n",
              "      <th>0</th>\n",
              "      <td>1</td>\n",
              "      <td>60</td>\n",
              "      <td>RL</td>\n",
              "      <td>65.0</td>\n",
              "      <td>8450</td>\n",
              "      <td>Pave</td>\n",
              "      <td>Reg</td>\n",
              "      <td>Lvl</td>\n",
              "      <td>AllPub</td>\n",
              "      <td>Inside</td>\n",
              "      <td>...</td>\n",
              "      <td>0</td>\n",
              "      <td>NaN</td>\n",
              "      <td>NaN</td>\n",
              "      <td>NaN</td>\n",
              "      <td>0</td>\n",
              "      <td>2</td>\n",
              "      <td>2008</td>\n",
              "      <td>WD</td>\n",
              "      <td>Normal</td>\n",
              "      <td>208500</td>\n",
              "    </tr>\n",
              "    <tr>\n",
              "      <th>1</th>\n",
              "      <td>2</td>\n",
              "      <td>20</td>\n",
              "      <td>RL</td>\n",
              "      <td>80.0</td>\n",
              "      <td>9600</td>\n",
              "      <td>Pave</td>\n",
              "      <td>Reg</td>\n",
              "      <td>Lvl</td>\n",
              "      <td>AllPub</td>\n",
              "      <td>FR2</td>\n",
              "      <td>...</td>\n",
              "      <td>0</td>\n",
              "      <td>NaN</td>\n",
              "      <td>NaN</td>\n",
              "      <td>NaN</td>\n",
              "      <td>0</td>\n",
              "      <td>5</td>\n",
              "      <td>2007</td>\n",
              "      <td>WD</td>\n",
              "      <td>Normal</td>\n",
              "      <td>181500</td>\n",
              "    </tr>\n",
              "    <tr>\n",
              "      <th>2</th>\n",
              "      <td>3</td>\n",
              "      <td>60</td>\n",
              "      <td>RL</td>\n",
              "      <td>68.0</td>\n",
              "      <td>11250</td>\n",
              "      <td>Pave</td>\n",
              "      <td>IR1</td>\n",
              "      <td>Lvl</td>\n",
              "      <td>AllPub</td>\n",
              "      <td>Inside</td>\n",
              "      <td>...</td>\n",
              "      <td>0</td>\n",
              "      <td>NaN</td>\n",
              "      <td>NaN</td>\n",
              "      <td>NaN</td>\n",
              "      <td>0</td>\n",
              "      <td>9</td>\n",
              "      <td>2008</td>\n",
              "      <td>WD</td>\n",
              "      <td>Normal</td>\n",
              "      <td>223500</td>\n",
              "    </tr>\n",
              "    <tr>\n",
              "      <th>3</th>\n",
              "      <td>4</td>\n",
              "      <td>70</td>\n",
              "      <td>RL</td>\n",
              "      <td>60.0</td>\n",
              "      <td>9550</td>\n",
              "      <td>Pave</td>\n",
              "      <td>IR1</td>\n",
              "      <td>Lvl</td>\n",
              "      <td>AllPub</td>\n",
              "      <td>Corner</td>\n",
              "      <td>...</td>\n",
              "      <td>0</td>\n",
              "      <td>NaN</td>\n",
              "      <td>NaN</td>\n",
              "      <td>NaN</td>\n",
              "      <td>0</td>\n",
              "      <td>2</td>\n",
              "      <td>2006</td>\n",
              "      <td>WD</td>\n",
              "      <td>Abnorml</td>\n",
              "      <td>140000</td>\n",
              "    </tr>\n",
              "    <tr>\n",
              "      <th>4</th>\n",
              "      <td>5</td>\n",
              "      <td>60</td>\n",
              "      <td>RL</td>\n",
              "      <td>84.0</td>\n",
              "      <td>14260</td>\n",
              "      <td>Pave</td>\n",
              "      <td>IR1</td>\n",
              "      <td>Lvl</td>\n",
              "      <td>AllPub</td>\n",
              "      <td>FR2</td>\n",
              "      <td>...</td>\n",
              "      <td>0</td>\n",
              "      <td>NaN</td>\n",
              "      <td>NaN</td>\n",
              "      <td>NaN</td>\n",
              "      <td>0</td>\n",
              "      <td>12</td>\n",
              "      <td>2008</td>\n",
              "      <td>WD</td>\n",
              "      <td>Normal</td>\n",
              "      <td>250000</td>\n",
              "    </tr>\n",
              "  </tbody>\n",
              "</table>\n",
              "<p>5 rows × 80 columns</p>\n",
              "</div>\n",
              "      <button class=\"colab-df-convert\" onclick=\"convertToInteractive('df-2dd69a80-4655-451b-b087-e0f6af8c24f8')\"\n",
              "              title=\"Convert this dataframe to an interactive table.\"\n",
              "              style=\"display:none;\">\n",
              "        \n",
              "  <svg xmlns=\"http://www.w3.org/2000/svg\" height=\"24px\"viewBox=\"0 0 24 24\"\n",
              "       width=\"24px\">\n",
              "    <path d=\"M0 0h24v24H0V0z\" fill=\"none\"/>\n",
              "    <path d=\"M18.56 5.44l.94 2.06.94-2.06 2.06-.94-2.06-.94-.94-2.06-.94 2.06-2.06.94zm-11 1L8.5 8.5l.94-2.06 2.06-.94-2.06-.94L8.5 2.5l-.94 2.06-2.06.94zm10 10l.94 2.06.94-2.06 2.06-.94-2.06-.94-.94-2.06-.94 2.06-2.06.94z\"/><path d=\"M17.41 7.96l-1.37-1.37c-.4-.4-.92-.59-1.43-.59-.52 0-1.04.2-1.43.59L10.3 9.45l-7.72 7.72c-.78.78-.78 2.05 0 2.83L4 21.41c.39.39.9.59 1.41.59.51 0 1.02-.2 1.41-.59l7.78-7.78 2.81-2.81c.8-.78.8-2.07 0-2.86zM5.41 20L4 18.59l7.72-7.72 1.47 1.35L5.41 20z\"/>\n",
              "  </svg>\n",
              "      </button>\n",
              "      \n",
              "  <style>\n",
              "    .colab-df-container {\n",
              "      display:flex;\n",
              "      flex-wrap:wrap;\n",
              "      gap: 12px;\n",
              "    }\n",
              "\n",
              "    .colab-df-convert {\n",
              "      background-color: #E8F0FE;\n",
              "      border: none;\n",
              "      border-radius: 50%;\n",
              "      cursor: pointer;\n",
              "      display: none;\n",
              "      fill: #1967D2;\n",
              "      height: 32px;\n",
              "      padding: 0 0 0 0;\n",
              "      width: 32px;\n",
              "    }\n",
              "\n",
              "    .colab-df-convert:hover {\n",
              "      background-color: #E2EBFA;\n",
              "      box-shadow: 0px 1px 2px rgba(60, 64, 67, 0.3), 0px 1px 3px 1px rgba(60, 64, 67, 0.15);\n",
              "      fill: #174EA6;\n",
              "    }\n",
              "\n",
              "    [theme=dark] .colab-df-convert {\n",
              "      background-color: #3B4455;\n",
              "      fill: #D2E3FC;\n",
              "    }\n",
              "\n",
              "    [theme=dark] .colab-df-convert:hover {\n",
              "      background-color: #434B5C;\n",
              "      box-shadow: 0px 1px 3px 1px rgba(0, 0, 0, 0.15);\n",
              "      filter: drop-shadow(0px 1px 2px rgba(0, 0, 0, 0.3));\n",
              "      fill: #FFFFFF;\n",
              "    }\n",
              "  </style>\n",
              "\n",
              "      <script>\n",
              "        const buttonEl =\n",
              "          document.querySelector('#df-2dd69a80-4655-451b-b087-e0f6af8c24f8 button.colab-df-convert');\n",
              "        buttonEl.style.display =\n",
              "          google.colab.kernel.accessAllowed ? 'block' : 'none';\n",
              "\n",
              "        async function convertToInteractive(key) {\n",
              "          const element = document.querySelector('#df-2dd69a80-4655-451b-b087-e0f6af8c24f8');\n",
              "          const dataTable =\n",
              "            await google.colab.kernel.invokeFunction('convertToInteractive',\n",
              "                                                     [key], {});\n",
              "          if (!dataTable) return;\n",
              "\n",
              "          const docLinkHtml = 'Like what you see? Visit the ' +\n",
              "            '<a target=\"_blank\" href=https://colab.research.google.com/notebooks/data_table.ipynb>data table notebook</a>'\n",
              "            + ' to learn more about interactive tables.';\n",
              "          element.innerHTML = '';\n",
              "          dataTable['output_type'] = 'display_data';\n",
              "          await google.colab.output.renderOutput(dataTable, element);\n",
              "          const docLink = document.createElement('div');\n",
              "          docLink.innerHTML = docLinkHtml;\n",
              "          element.appendChild(docLink);\n",
              "        }\n",
              "      </script>\n",
              "    </div>\n",
              "  </div>\n",
              "  "
            ],
            "text/plain": [
              "   Id  MSSubClass MSZoning  LotFrontage  LotArea Street LotShape LandContour  \\\n",
              "0   1          60       RL         65.0     8450   Pave      Reg         Lvl   \n",
              "1   2          20       RL         80.0     9600   Pave      Reg         Lvl   \n",
              "2   3          60       RL         68.0    11250   Pave      IR1         Lvl   \n",
              "3   4          70       RL         60.0     9550   Pave      IR1         Lvl   \n",
              "4   5          60       RL         84.0    14260   Pave      IR1         Lvl   \n",
              "\n",
              "  Utilities LotConfig  ... PoolArea PoolQC Fence MiscFeature MiscVal MoSold  \\\n",
              "0    AllPub    Inside  ...        0    NaN   NaN         NaN       0      2   \n",
              "1    AllPub       FR2  ...        0    NaN   NaN         NaN       0      5   \n",
              "2    AllPub    Inside  ...        0    NaN   NaN         NaN       0      9   \n",
              "3    AllPub    Corner  ...        0    NaN   NaN         NaN       0      2   \n",
              "4    AllPub       FR2  ...        0    NaN   NaN         NaN       0     12   \n",
              "\n",
              "   YrSold  SaleType  SaleCondition  SalePrice  \n",
              "0    2008        WD         Normal     208500  \n",
              "1    2007        WD         Normal     181500  \n",
              "2    2008        WD         Normal     223500  \n",
              "3    2006        WD        Abnorml     140000  \n",
              "4    2008        WD         Normal     250000  \n",
              "\n",
              "[5 rows x 80 columns]"
            ]
          },
          "execution_count": 22,
          "metadata": {},
          "output_type": "execute_result"
        }
      ],
      "source": [
        "data['BsmtCond']=data['BsmtCond'].fillna(data['BsmtCond'].mode()[0])\n",
        "data['BsmtQual']=data['BsmtQual'].fillna(data['BsmtQual'].mode()[0])\n",
        "data.head()"
      ]
    },
    {
      "cell_type": "code",
      "execution_count": null,
      "metadata": {
        "id": "kjbzZ2pX27Kz"
      },
      "outputs": [],
      "source": [
        "data['FireplaceQu']=data['FireplaceQu'].fillna(data['FireplaceQu'].mode()[0])\n",
        "data['GarageType']=data['GarageType'].fillna(data['GarageType'].mode()[0])"
      ]
    },
    {
      "cell_type": "code",
      "execution_count": null,
      "metadata": {
        "id": "hbpuApNu30WS"
      },
      "outputs": [],
      "source": [
        "data.drop(['GarageYrBlt'],axis=1,inplace=True)"
      ]
    },
    {
      "cell_type": "code",
      "execution_count": null,
      "metadata": {
        "id": "ATIaHjul3_lG"
      },
      "outputs": [],
      "source": [
        "data['GarageFinish']=data['GarageFinish'].fillna(data['GarageFinish'].mode()[0])\n",
        "data['GarageQual']=data['GarageQual'].fillna(data['GarageQual'].mode()[0])\n",
        "data['GarageCond']=data['GarageCond'].fillna(data['GarageCond'].mode()[0])"
      ]
    },
    {
      "cell_type": "code",
      "execution_count": null,
      "metadata": {
        "id": "xcMNQ6Z8JjeC"
      },
      "outputs": [],
      "source": [
        "data.drop(['PoolQC','Fence','MiscFeature'],axis=1,inplace=True)"
      ]
    },
    {
      "cell_type": "code",
      "execution_count": null,
      "metadata": {
        "colab": {
          "base_uri": "https://localhost:8080/"
        },
        "id": "c9ytKi57f3J0",
        "outputId": "ebc226d3-dd48-45f9-c802-b8c04f9497df"
      },
      "outputs": [
        {
          "data": {
            "text/plain": [
              "(1460, 76)"
            ]
          },
          "execution_count": 27,
          "metadata": {},
          "output_type": "execute_result"
        }
      ],
      "source": [
        "data.shape"
      ]
    },
    {
      "cell_type": "code",
      "execution_count": null,
      "metadata": {
        "id": "1Wr--U_Kf25v"
      },
      "outputs": [],
      "source": [
        "data.drop(['Id'],axis=1,inplace=True)"
      ]
    },
    {
      "cell_type": "code",
      "execution_count": null,
      "metadata": {
        "colab": {
          "base_uri": "https://localhost:8080/"
        },
        "id": "UBIvqy7opCQw",
        "outputId": "0482c713-cf8b-44d1-fd53-d4b4dfd0a2a6"
      },
      "outputs": [
        {
          "data": {
            "text/plain": [
              "MSSubClass       0\n",
              "MSZoning         0\n",
              "LotFrontage      0\n",
              "LotArea          0\n",
              "Street           0\n",
              "                ..\n",
              "MoSold           0\n",
              "YrSold           0\n",
              "SaleType         0\n",
              "SaleCondition    0\n",
              "SalePrice        0\n",
              "Length: 75, dtype: int64"
            ]
          },
          "execution_count": 29,
          "metadata": {},
          "output_type": "execute_result"
        }
      ],
      "source": [
        "data.isnull().sum()"
      ]
    },
    {
      "cell_type": "code",
      "execution_count": null,
      "metadata": {
        "id": "6H88kXYepaa4"
      },
      "outputs": [],
      "source": [
        "data['MasVnrType']=data['MasVnrType'].fillna(data['MasVnrType'].mode()[0])\n",
        "data['MasVnrArea']=data['MasVnrArea'].fillna(data['MasVnrArea'].mode()[0])"
      ]
    },
    {
      "cell_type": "code",
      "execution_count": null,
      "metadata": {
        "colab": {
          "base_uri": "https://localhost:8080/"
        },
        "id": "qwB20mTWqajs",
        "outputId": "78521f14-2f12-48bd-fa64-392f22370bd9"
      },
      "outputs": [
        {
          "data": {
            "text/plain": [
              "<matplotlib.axes._subplots.AxesSubplot at 0x7fa34e55edc0>"
            ]
          },
          "execution_count": 31,
          "metadata": {},
          "output_type": "execute_result"
        },
        {
          "data": {
            "image/png": "[encoded data removed]",
            "text/plain": [
              "<Figure size 432x288 with 1 Axes>"
            ]
          },
          "metadata": {
            "needs_background": "light"
          },
          "output_type": "display_data"
        }
      ],
      "source": [
        "sns.heatmap(data.isnull(),yticklabels=False,cbar=False,cmap='coolwarm')"
      ]
    },
    {
      "cell_type": "code",
      "execution_count": null,
      "metadata": {
        "colab": {
          "base_uri": "https://localhost:8080/"
        },
        "id": "xXzKxvjE2FTP",
        "outputId": "0efbce26-cc81-4d10-9a28-fe9a1d2b23b1"
      },
      "outputs": [
        {
          "name": "stdout",
          "output_type": "stream",
          "text": [
            "<class 'pandas.core.frame.DataFrame'>\n",
            "RangeIndex: 1460 entries, 0 to 1459\n",
            "Data columns (total 75 columns):\n",
            " #   Column         Non-Null Count  Dtype  \n",
            "---  ------         --------------  -----  \n",
            " 0   MSSubClass     1460 non-null   int64  \n",
            " 1   MSZoning       1460 non-null   object \n",
            " 2   LotFrontage    1460 non-null   float64\n",
            " 3   LotArea        1460 non-null   int64  \n",
            " 4   Street         1460 non-null   object \n",
            " 5   LotShape       1460 non-null   object \n",
            " 6   LandContour    1460 non-null   object \n",
            " 7   Utilities      1460 non-null   object \n",
            " 8   LotConfig      1460 non-null   object \n",
            " 9   LandSlope      1460 non-null   object \n",
            " 10  Neighborhood   1460 non-null   object \n",
            " 11  Condition1     1460 non-null   object \n",
            " 12  Condition2     1460 non-null   object \n",
            " 13  BldgType       1460 non-null   object \n",
            " 14  HouseStyle     1460 non-null   object \n",
            " 15  OverallQual    1460 non-null   int64  \n",
            " 16  OverallCond    1460 non-null   int64  \n",
            " 17  YearBuilt      1460 non-null   int64  \n",
            " 18  YearRemodAdd   1460 non-null   int64  \n",
            " 19  RoofStyle      1460 non-null   object \n",
            " 20  RoofMatl       1460 non-null   object \n",
            " 21  Exterior1st    1460 non-null   object \n",
            " 22  Exterior2nd    1460 non-null   object \n",
            " 23  MasVnrType     1460 non-null   object \n",
            " 24  MasVnrArea     1460 non-null   float64\n",
            " 25  ExterQual      1460 non-null   object \n",
            " 26  ExterCond      1460 non-null   object \n",
            " 27  Foundation     1460 non-null   object \n",
            " 28  BsmtQual       1460 non-null   object \n",
            " 29  BsmtCond       1460 non-null   object \n",
            " 30  BsmtExposure   1422 non-null   object \n",
            " 31  BsmtFinType1   1423 non-null   object \n",
            " 32  BsmtFinSF1     1460 non-null   int64  \n",
            " 33  BsmtFinType2   1422 non-null   object \n",
            " 34  BsmtFinSF2     1460 non-null   int64  \n",
            " 35  BsmtUnfSF      1460 non-null   int64  \n",
            " 36  TotalBsmtSF    1460 non-null   int64  \n",
            " 37  Heating        1460 non-null   object \n",
            " 38  HeatingQC      1460 non-null   object \n",
            " 39  CentralAir     1460 non-null   object \n",
            " 40  Electrical     1459 non-null   object \n",
            " 41  1stFlrSF       1460 non-null   int64  \n",
            " 42  2ndFlrSF       1460 non-null   int64  \n",
            " 43  LowQualFinSF   1460 non-null   int64  \n",
            " 44  GrLivArea      1460 non-null   int64  \n",
            " 45  BsmtFullBath   1460 non-null   int64  \n",
            " 46  BsmtHalfBath   1460 non-null   int64  \n",
            " 47  FullBath       1460 non-null   int64  \n",
            " 48  HalfBath       1460 non-null   int64  \n",
            " 49  BedroomAbvGr   1460 non-null   int64  \n",
            " 50  KitchenAbvGr   1460 non-null   int64  \n",
            " 51  KitchenQual    1460 non-null   object \n",
            " 52  TotRmsAbvGrd   1460 non-null   int64  \n",
            " 53  Functional     1460 non-null   object \n",
            " 54  Fireplaces     1460 non-null   int64  \n",
            " 55  FireplaceQu    1460 non-null   object \n",
            " 56  GarageType     1460 non-null   object \n",
            " 57  GarageFinish   1460 non-null   object \n",
            " 58  GarageCars     1460 non-null   int64  \n",
            " 59  GarageArea     1460 non-null   int64  \n",
            " 60  GarageQual     1460 non-null   object \n",
            " 61  GarageCond     1460 non-null   object \n",
            " 62  PavedDrive     1460 non-null   object \n",
            " 63  WoodDeckSF     1460 non-null   int64  \n",
            " 64  OpenPorchSF    1460 non-null   int64  \n",
            " 65  EnclosedPorch  1460 non-null   int64  \n",
            " 66  3SsnPorch      1460 non-null   int64  \n",
            " 67  ScreenPorch    1460 non-null   int64  \n",
            " 68  PoolArea       1460 non-null   int64  \n",
            " 69  MiscVal        1460 non-null   int64  \n",
            " 70  MoSold         1460 non-null   int64  \n",
            " 71  YrSold         1460 non-null   int64  \n",
            " 72  SaleType       1460 non-null   object \n",
            " 73  SaleCondition  1460 non-null   object \n",
            " 74  SalePrice      1460 non-null   int64  \n",
            "dtypes: float64(2), int64(34), object(39)\n",
            "memory usage: 855.6+ KB\n"
          ]
        }
      ],
      "source": [
        "data.info()"
      ]
    },
    {
      "cell_type": "code",
      "execution_count": null,
      "metadata": {
        "id": "0_fmGg9GrLua"
      },
      "outputs": [],
      "source": [
        "data['BsmtExposure']=data['BsmtExposure'].fillna(data['BsmtExposure'].mode()[0])"
      ]
    },
    {
      "cell_type": "code",
      "execution_count": null,
      "metadata": {
        "colab": {
          "base_uri": "https://localhost:8080/"
        },
        "id": "d5bkkDMMsiLg",
        "outputId": "4224b869-64f3-45ee-ac37-a67ed82fb029"
      },
      "outputs": [
        {
          "data": {
            "text/plain": [
              "Index(['MSSubClass', 'MSZoning', 'LotFrontage', 'LotArea', 'Street',\n",
              "       'LotShape', 'LandContour', 'Utilities', 'LotConfig', 'LandSlope',\n",
              "       'Neighborhood', 'Condition1', 'Condition2', 'BldgType', 'HouseStyle',\n",
              "       'OverallQual', 'OverallCond', 'YearBuilt', 'YearRemodAdd', 'RoofStyle',\n",
              "       'RoofMatl', 'Exterior1st', 'Exterior2nd', 'MasVnrType', 'MasVnrArea',\n",
              "       'ExterQual', 'ExterCond', 'Foundation', 'BsmtQual', 'BsmtCond',\n",
              "       'BsmtExposure', 'BsmtFinType1', 'BsmtFinSF1', 'BsmtFinType2',\n",
              "       'BsmtFinSF2', 'BsmtUnfSF', 'TotalBsmtSF', 'Heating', 'HeatingQC',\n",
              "       'CentralAir', 'Electrical', '1stFlrSF', '2ndFlrSF', 'LowQualFinSF',\n",
              "       'GrLivArea', 'BsmtFullBath', 'BsmtHalfBath', 'FullBath', 'HalfBath',\n",
              "       'BedroomAbvGr', 'KitchenAbvGr', 'KitchenQual', 'TotRmsAbvGrd',\n",
              "       'Functional', 'Fireplaces', 'FireplaceQu', 'GarageType', 'GarageFinish',\n",
              "       'GarageCars', 'GarageArea', 'GarageQual', 'GarageCond', 'PavedDrive',\n",
              "       'WoodDeckSF', 'OpenPorchSF', 'EnclosedPorch', '3SsnPorch',\n",
              "       'ScreenPorch', 'PoolArea', 'MiscVal', 'MoSold', 'YrSold', 'SaleType',\n",
              "       'SaleCondition', 'SalePrice'],\n",
              "      dtype='object')"
            ]
          },
          "execution_count": 34,
          "metadata": {},
          "output_type": "execute_result"
        }
      ],
      "source": [
        "data.columns"
      ]
    },
    {
      "cell_type": "code",
      "execution_count": null,
      "metadata": {
        "colab": {
          "base_uri": "https://localhost:8080/"
        },
        "id": "6Kal1So6tf_c",
        "outputId": "579310ff-0a0f-43de-f003-e35b01933362"
      },
      "outputs": [
        {
          "data": {
            "text/plain": [
              "38"
            ]
          },
          "execution_count": 35,
          "metadata": {},
          "output_type": "execute_result"
        }
      ],
      "source": [
        "data.BsmtFinType2.isna().sum()"
      ]
    },
    {
      "cell_type": "code",
      "execution_count": null,
      "metadata": {
        "colab": {
          "base_uri": "https://localhost:8080/"
        },
        "id": "wytXgwq01jrm",
        "outputId": "609ca1d6-7710-4a85-90c4-9a876da4a457"
      },
      "outputs": [
        {
          "data": {
            "text/plain": [
              "RL         1151\n",
              "RM          218\n",
              "FV           65\n",
              "RH           16\n",
              "C (all)      10\n",
              "Name: MSZoning, dtype: int64"
            ]
          },
          "execution_count": 36,
          "metadata": {},
          "output_type": "execute_result"
        }
      ],
      "source": [
        "data['MSZoning'].value_counts()"
      ]
    },
    {
      "cell_type": "code",
      "execution_count": null,
      "metadata": {
        "colab": {
          "base_uri": "https://localhost:8080/"
        },
        "id": "00mIpI8mt59e",
        "outputId": "74b05da4-bfe9-4b1d-9c09-e3f85a9bb4ad"
      },
      "outputs": [
        {
          "data": {
            "text/plain": [
              "Index(['BsmtFinType1', 'BsmtFinType2', 'Electrical'], dtype='object')"
            ]
          },
          "execution_count": 37,
          "metadata": {},
          "output_type": "execute_result"
        }
      ],
      "source": [
        "data.columns[data.isnull().any()]"
      ]
    },
    {
      "cell_type": "code",
      "execution_count": null,
      "metadata": {
        "colab": {
          "base_uri": "https://localhost:8080/"
        },
        "id": "dxYLNHYkrT20",
        "outputId": "1bc55a3e-7741-40b3-9661-b91569dd3e1b"
      },
      "outputs": [
        {
          "data": {
            "text/plain": [
              "<matplotlib.axes._subplots.AxesSubplot at 0x7fa34e089910>"
            ]
          },
          "execution_count": 38,
          "metadata": {},
          "output_type": "execute_result"
        },
        {
          "data": {
            "image/png": "[encoded data removed]",
            "text/plain": [
              "<Figure size 1440x360 with 1 Axes>"
            ]
          },
          "metadata": {
            "needs_background": "light"
          },
          "output_type": "display_data"
        }
      ],
      "source": [
        "fig, ax = plt.subplots(figsize=(20,5))         # Sample figsize in inches\n",
        "sns.heatmap(data.isnull(),yticklabels=False, cbar=False, cmap='coolwarm', ax=ax)"
      ]
    },
    {
      "cell_type": "code",
      "execution_count": null,
      "metadata": {
        "id": "CeBAfbLWv963"
      },
      "outputs": [],
      "source": [
        "data['BsmtFinType2']=data['BsmtFinType2'].fillna(data['BsmtFinType2'].mode()[0])"
      ]
    },
    {
      "cell_type": "code",
      "execution_count": null,
      "metadata": {
        "colab": {
          "base_uri": "https://localhost:8080/"
        },
        "id": "j6lPk8asxNBm",
        "outputId": "20137aa5-8b32-46b4-d7e2-4ae85fd80448"
      },
      "outputs": [
        {
          "data": {
            "text/plain": [
              "<matplotlib.axes._subplots.AxesSubplot at 0x7fa34df49a90>"
            ]
          },
          "execution_count": 40,
          "metadata": {},
          "output_type": "execute_result"
        },
        {
          "data": {
            "image/png": "[encoded data removed]",
            "text/plain": [
              "<Figure size 1440x360 with 1 Axes>"
            ]
          },
          "metadata": {
            "needs_background": "light"
          },
          "output_type": "display_data"
        }
      ],
      "source": [
        "fig, ax = plt.subplots(figsize=(20,5))         # Sample figsize in inches\n",
        "sns.heatmap(data.isnull(),yticklabels=False, cbar=False, cmap='coolwarm', ax=ax)"
      ]
    },
    {
      "cell_type": "code",
      "execution_count": null,
      "metadata": {
        "colab": {
          "base_uri": "https://localhost:8080/"
        },
        "id": "LLbZoOsnx-ob",
        "outputId": "47d6efe0-c3e2-48b3-da14-e5d9dfd1f1f5"
      },
      "outputs": [
        {
          "data": {
            "text/plain": [
              "0       GLQ\n",
              "1       ALQ\n",
              "2       GLQ\n",
              "3       ALQ\n",
              "4       GLQ\n",
              "       ... \n",
              "1455    Unf\n",
              "1456    ALQ\n",
              "1457    GLQ\n",
              "1458    GLQ\n",
              "1459    BLQ\n",
              "Name: BsmtFinType1, Length: 1460, dtype: object"
            ]
          },
          "execution_count": 41,
          "metadata": {},
          "output_type": "execute_result"
        }
      ],
      "source": [
        "data[\"BsmtFinType1\"]"
      ]
    },
    {
      "cell_type": "code",
      "execution_count": null,
      "metadata": {
        "colab": {
          "base_uri": "https://localhost:8080/"
        },
        "id": "fnKzvKZQmBko",
        "outputId": "9263346c-9ab4-4ee0-e13e-85ab421e2d9d"
      },
      "outputs": [
        {
          "data": {
            "text/plain": [
              "37"
            ]
          },
          "execution_count": 42,
          "metadata": {},
          "output_type": "execute_result"
        }
      ],
      "source": [
        "data[\"BsmtFinType1\"].isna().sum()"
      ]
    },
    {
      "cell_type": "code",
      "execution_count": null,
      "metadata": {
        "id": "8_zQD2MymMxe"
      },
      "outputs": [],
      "source": [
        "data.dropna(inplace=True)"
      ]
    },
    {
      "cell_type": "code",
      "execution_count": null,
      "metadata": {
        "colab": {
          "base_uri": "https://localhost:8080/"
        },
        "id": "CaoPJ2HtmTzu",
        "outputId": "530a0696-ec76-4c6d-bff4-82df1c008732"
      },
      "outputs": [
        {
          "data": {
            "text/plain": [
              "<matplotlib.axes._subplots.AxesSubplot at 0x7fa34e541b20>"
            ]
          },
          "execution_count": 44,
          "metadata": {},
          "output_type": "execute_result"
        },
        {
          "data": {
            "image/png": "[encoded data removed]",
            "text/plain": [
              "<Figure size 1440x360 with 1 Axes>"
            ]
          },
          "metadata": {
            "needs_background": "light"
          },
          "output_type": "display_data"
        }
      ],
      "source": [
        "fig, ax = plt.subplots(figsize=(20,5))         # Sample figsize in inches\n",
        "sns.heatmap(data.isnull(),yticklabels=False, cbar=False, cmap='coolwarm', ax=ax)"
      ]
    },
    {
      "cell_type": "code",
      "execution_count": null,
      "metadata": {
        "colab": {
          "base_uri": "https://localhost:8080/"
        },
        "id": "sLYUv4xImXhn",
        "outputId": "db67581c-e782-443b-c5e4-3d55aca4287a"
      },
      "outputs": [
        {
          "data": {
            "text/html": [
              "\n",
              "  <div id=\"df-484ffc50-e030-4260-a17a-bb3cd13c2311\">\n",
              "    <div class=\"colab-df-container\">\n",
              "      <div>\n",
              "<style scoped>\n",
              "    .dataframe tbody tr th:only-of-type {\n",
              "        vertical-align: middle;\n",
              "    }\n",
              "\n",
              "    .dataframe tbody tr th {\n",
              "        vertical-align: top;\n",
              "    }\n",
              "\n",
              "    .dataframe thead th {\n",
              "        text-align: right;\n",
              "    }\n",
              "</style>\n",
              "<table border=\"1\" class=\"dataframe\">\n",
              "  <thead>\n",
              "    <tr style=\"text-align: right;\">\n",
              "      <th></th>\n",
              "      <th>MSSubClass</th>\n",
              "      <th>MSZoning</th>\n",
              "      <th>LotFrontage</th>\n",
              "      <th>LotArea</th>\n",
              "      <th>Street</th>\n",
              "      <th>LotShape</th>\n",
              "      <th>LandContour</th>\n",
              "      <th>Utilities</th>\n",
              "      <th>LotConfig</th>\n",
              "      <th>LandSlope</th>\n",
              "      <th>...</th>\n",
              "      <th>EnclosedPorch</th>\n",
              "      <th>3SsnPorch</th>\n",
              "      <th>ScreenPorch</th>\n",
              "      <th>PoolArea</th>\n",
              "      <th>MiscVal</th>\n",
              "      <th>MoSold</th>\n",
              "      <th>YrSold</th>\n",
              "      <th>SaleType</th>\n",
              "      <th>SaleCondition</th>\n",
              "      <th>SalePrice</th>\n",
              "    </tr>\n",
              "  </thead>\n",
              "  <tbody>\n",
              "    <tr>\n",
              "      <th>0</th>\n",
              "      <td>60</td>\n",
              "      <td>RL</td>\n",
              "      <td>65.0</td>\n",
              "      <td>8450</td>\n",
              "      <td>Pave</td>\n",
              "      <td>Reg</td>\n",
              "      <td>Lvl</td>\n",
              "      <td>AllPub</td>\n",
              "      <td>Inside</td>\n",
              "      <td>Gtl</td>\n",
              "      <td>...</td>\n",
              "      <td>0</td>\n",
              "      <td>0</td>\n",
              "      <td>0</td>\n",
              "      <td>0</td>\n",
              "      <td>0</td>\n",
              "      <td>2</td>\n",
              "      <td>2008</td>\n",
              "      <td>WD</td>\n",
              "      <td>Normal</td>\n",
              "      <td>208500</td>\n",
              "    </tr>\n",
              "    <tr>\n",
              "      <th>1</th>\n",
              "      <td>20</td>\n",
              "      <td>RL</td>\n",
              "      <td>80.0</td>\n",
              "      <td>9600</td>\n",
              "      <td>Pave</td>\n",
              "      <td>Reg</td>\n",
              "      <td>Lvl</td>\n",
              "      <td>AllPub</td>\n",
              "      <td>FR2</td>\n",
              "      <td>Gtl</td>\n",
              "      <td>...</td>\n",
              "      <td>0</td>\n",
              "      <td>0</td>\n",
              "      <td>0</td>\n",
              "      <td>0</td>\n",
              "      <td>0</td>\n",
              "      <td>5</td>\n",
              "      <td>2007</td>\n",
              "      <td>WD</td>\n",
              "      <td>Normal</td>\n",
              "      <td>181500</td>\n",
              "    </tr>\n",
              "    <tr>\n",
              "      <th>2</th>\n",
              "      <td>60</td>\n",
              "      <td>RL</td>\n",
              "      <td>68.0</td>\n",
              "      <td>11250</td>\n",
              "      <td>Pave</td>\n",
              "      <td>IR1</td>\n",
              "      <td>Lvl</td>\n",
              "      <td>AllPub</td>\n",
              "      <td>Inside</td>\n",
              "      <td>Gtl</td>\n",
              "      <td>...</td>\n",
              "      <td>0</td>\n",
              "      <td>0</td>\n",
              "      <td>0</td>\n",
              "      <td>0</td>\n",
              "      <td>0</td>\n",
              "      <td>9</td>\n",
              "      <td>2008</td>\n",
              "      <td>WD</td>\n",
              "      <td>Normal</td>\n",
              "      <td>223500</td>\n",
              "    </tr>\n",
              "    <tr>\n",
              "      <th>3</th>\n",
              "      <td>70</td>\n",
              "      <td>RL</td>\n",
              "      <td>60.0</td>\n",
              "      <td>9550</td>\n",
              "      <td>Pave</td>\n",
              "      <td>IR1</td>\n",
              "      <td>Lvl</td>\n",
              "      <td>AllPub</td>\n",
              "      <td>Corner</td>\n",
              "      <td>Gtl</td>\n",
              "      <td>...</td>\n",
              "      <td>272</td>\n",
              "      <td>0</td>\n",
              "      <td>0</td>\n",
              "      <td>0</td>\n",
              "      <td>0</td>\n",
              "      <td>2</td>\n",
              "      <td>2006</td>\n",
              "      <td>WD</td>\n",
              "      <td>Abnorml</td>\n",
              "      <td>140000</td>\n",
              "    </tr>\n",
              "    <tr>\n",
              "      <th>4</th>\n",
              "      <td>60</td>\n",
              "      <td>RL</td>\n",
              "      <td>84.0</td>\n",
              "      <td>14260</td>\n",
              "      <td>Pave</td>\n",
              "      <td>IR1</td>\n",
              "      <td>Lvl</td>\n",
              "      <td>AllPub</td>\n",
              "      <td>FR2</td>\n",
              "      <td>Gtl</td>\n",
              "      <td>...</td>\n",
              "      <td>0</td>\n",
              "      <td>0</td>\n",
              "      <td>0</td>\n",
              "      <td>0</td>\n",
              "      <td>0</td>\n",
              "      <td>12</td>\n",
              "      <td>2008</td>\n",
              "      <td>WD</td>\n",
              "      <td>Normal</td>\n",
              "      <td>250000</td>\n",
              "    </tr>\n",
              "  </tbody>\n",
              "</table>\n",
              "<p>5 rows × 75 columns</p>\n",
              "</div>\n",
              "      <button class=\"colab-df-convert\" onclick=\"convertToInteractive('df-484ffc50-e030-4260-a17a-bb3cd13c2311')\"\n",
              "              title=\"Convert this dataframe to an interactive table.\"\n",
              "              style=\"display:none;\">\n",
              "        \n",
              "  <svg xmlns=\"http://www.w3.org/2000/svg\" height=\"24px\"viewBox=\"0 0 24 24\"\n",
              "       width=\"24px\">\n",
              "    <path d=\"M0 0h24v24H0V0z\" fill=\"none\"/>\n",
              "    <path d=\"M18.56 5.44l.94 2.06.94-2.06 2.06-.94-2.06-.94-.94-2.06-.94 2.06-2.06.94zm-11 1L8.5 8.5l.94-2.06 2.06-.94-2.06-.94L8.5 2.5l-.94 2.06-2.06.94zm10 10l.94 2.06.94-2.06 2.06-.94-2.06-.94-.94-2.06-.94 2.06-2.06.94z\"/><path d=\"M17.41 7.96l-1.37-1.37c-.4-.4-.92-.59-1.43-.59-.52 0-1.04.2-1.43.59L10.3 9.45l-7.72 7.72c-.78.78-.78 2.05 0 2.83L4 21.41c.39.39.9.59 1.41.59.51 0 1.02-.2 1.41-.59l7.78-7.78 2.81-2.81c.8-.78.8-2.07 0-2.86zM5.41 20L4 18.59l7.72-7.72 1.47 1.35L5.41 20z\"/>\n",
              "  </svg>\n",
              "      </button>\n",
              "      \n",
              "  <style>\n",
              "    .colab-df-container {\n",
              "      display:flex;\n",
              "      flex-wrap:wrap;\n",
              "      gap: 12px;\n",
              "    }\n",
              "\n",
              "    .colab-df-convert {\n",
              "      background-color: #E8F0FE;\n",
              "      border: none;\n",
              "      border-radius: 50%;\n",
              "      cursor: pointer;\n",
              "      display: none;\n",
              "      fill: #1967D2;\n",
              "      height: 32px;\n",
              "      padding: 0 0 0 0;\n",
              "      width: 32px;\n",
              "    }\n",
              "\n",
              "    .colab-df-convert:hover {\n",
              "      background-color: #E2EBFA;\n",
              "      box-shadow: 0px 1px 2px rgba(60, 64, 67, 0.3), 0px 1px 3px 1px rgba(60, 64, 67, 0.15);\n",
              "      fill: #174EA6;\n",
              "    }\n",
              "\n",
              "    [theme=dark] .colab-df-convert {\n",
              "      background-color: #3B4455;\n",
              "      fill: #D2E3FC;\n",
              "    }\n",
              "\n",
              "    [theme=dark] .colab-df-convert:hover {\n",
              "      background-color: #434B5C;\n",
              "      box-shadow: 0px 1px 3px 1px rgba(0, 0, 0, 0.15);\n",
              "      filter: drop-shadow(0px 1px 2px rgba(0, 0, 0, 0.3));\n",
              "      fill: #FFFFFF;\n",
              "    }\n",
              "  </style>\n",
              "\n",
              "      <script>\n",
              "        const buttonEl =\n",
              "          document.querySelector('#df-484ffc50-e030-4260-a17a-bb3cd13c2311 button.colab-df-convert');\n",
              "        buttonEl.style.display =\n",
              "          google.colab.kernel.accessAllowed ? 'block' : 'none';\n",
              "\n",
              "        async function convertToInteractive(key) {\n",
              "          const element = document.querySelector('#df-484ffc50-e030-4260-a17a-bb3cd13c2311');\n",
              "          const dataTable =\n",
              "            await google.colab.kernel.invokeFunction('convertToInteractive',\n",
              "                                                     [key], {});\n",
              "          if (!dataTable) return;\n",
              "\n",
              "          const docLinkHtml = 'Like what you see? Visit the ' +\n",
              "            '<a target=\"_blank\" href=https://colab.research.google.com/notebooks/data_table.ipynb>data table notebook</a>'\n",
              "            + ' to learn more about interactive tables.';\n",
              "          element.innerHTML = '';\n",
              "          dataTable['output_type'] = 'display_data';\n",
              "          await google.colab.output.renderOutput(dataTable, element);\n",
              "          const docLink = document.createElement('div');\n",
              "          docLink.innerHTML = docLinkHtml;\n",
              "          element.appendChild(docLink);\n",
              "        }\n",
              "      </script>\n",
              "    </div>\n",
              "  </div>\n",
              "  "
            ],
            "text/plain": [
              "   MSSubClass MSZoning  LotFrontage  LotArea Street LotShape LandContour  \\\n",
              "0          60       RL         65.0     8450   Pave      Reg         Lvl   \n",
              "1          20       RL         80.0     9600   Pave      Reg         Lvl   \n",
              "2          60       RL         68.0    11250   Pave      IR1         Lvl   \n",
              "3          70       RL         60.0     9550   Pave      IR1         Lvl   \n",
              "4          60       RL         84.0    14260   Pave      IR1         Lvl   \n",
              "\n",
              "  Utilities LotConfig LandSlope  ... EnclosedPorch 3SsnPorch ScreenPorch  \\\n",
              "0    AllPub    Inside       Gtl  ...             0         0           0   \n",
              "1    AllPub       FR2       Gtl  ...             0         0           0   \n",
              "2    AllPub    Inside       Gtl  ...             0         0           0   \n",
              "3    AllPub    Corner       Gtl  ...           272         0           0   \n",
              "4    AllPub       FR2       Gtl  ...             0         0           0   \n",
              "\n",
              "  PoolArea MiscVal  MoSold  YrSold  SaleType  SaleCondition SalePrice  \n",
              "0        0       0       2    2008        WD         Normal    208500  \n",
              "1        0       0       5    2007        WD         Normal    181500  \n",
              "2        0       0       9    2008        WD         Normal    223500  \n",
              "3        0       0       2    2006        WD        Abnorml    140000  \n",
              "4        0       0      12    2008        WD         Normal    250000  \n",
              "\n",
              "[5 rows x 75 columns]"
            ]
          },
          "execution_count": 45,
          "metadata": {},
          "output_type": "execute_result"
        }
      ],
      "source": [
        "data.head()"
      ]
    },
    {
      "cell_type": "code",
      "execution_count": null,
      "metadata": {
        "id": "mfwKyDoFnFEo"
      },
      "outputs": [],
      "source": [
        "# rassemblement de tous les variables qualitatives\n",
        "columns=['MSZoning','Street','LotShape','LandContour','Utilities','LotConfig','LandSlope','Neighborhood',\n",
        "         'Condition2','BldgType','Condition1','HouseStyle','SaleType',\n",
        "        'SaleCondition','ExterCond',\n",
        "         'ExterQual','Foundation','BsmtQual','BsmtCond','BsmtExposure','BsmtFinType1','BsmtFinType2',\n",
        "        'RoofStyle','RoofMatl','Exterior1st','Exterior2nd','MasVnrType','Heating','HeatingQC',\n",
        "         'CentralAir',\n",
        "         'Electrical','KitchenQual','Functional',\n",
        "         'FireplaceQu','GarageType','GarageFinish','GarageQual','GarageCond','PavedDrive']"
      ]
    },
    {
      "cell_type": "code",
      "execution_count": null,
      "metadata": {
        "colab": {
          "base_uri": "https://localhost:8080/"
        },
        "id": "9AX4N2l6qTm3",
        "outputId": "eaab11af-d198-4b4c-eaa3-4b93a7d8ed34"
      },
      "outputs": [
        {
          "data": {
            "text/html": [
              "\n",
              "  <div id=\"df-0f3fb0db-fbce-4c21-9343-197ca237858c\">\n",
              "    <div class=\"colab-df-container\">\n",
              "      <div>\n",
              "<style scoped>\n",
              "    .dataframe tbody tr th:only-of-type {\n",
              "        vertical-align: middle;\n",
              "    }\n",
              "\n",
              "    .dataframe tbody tr th {\n",
              "        vertical-align: top;\n",
              "    }\n",
              "\n",
              "    .dataframe thead th {\n",
              "        text-align: right;\n",
              "    }\n",
              "</style>\n",
              "<table border=\"1\" class=\"dataframe\">\n",
              "  <thead>\n",
              "    <tr style=\"text-align: right;\">\n",
              "      <th></th>\n",
              "      <th>MSZoning</th>\n",
              "      <th>Street</th>\n",
              "      <th>LotShape</th>\n",
              "      <th>LandContour</th>\n",
              "      <th>Utilities</th>\n",
              "      <th>LotConfig</th>\n",
              "      <th>LandSlope</th>\n",
              "      <th>Neighborhood</th>\n",
              "      <th>Condition2</th>\n",
              "      <th>BldgType</th>\n",
              "      <th>...</th>\n",
              "      <th>CentralAir</th>\n",
              "      <th>Electrical</th>\n",
              "      <th>KitchenQual</th>\n",
              "      <th>Functional</th>\n",
              "      <th>FireplaceQu</th>\n",
              "      <th>GarageType</th>\n",
              "      <th>GarageFinish</th>\n",
              "      <th>GarageQual</th>\n",
              "      <th>GarageCond</th>\n",
              "      <th>PavedDrive</th>\n",
              "    </tr>\n",
              "  </thead>\n",
              "  <tbody>\n",
              "    <tr>\n",
              "      <th>0</th>\n",
              "      <td>RL</td>\n",
              "      <td>Pave</td>\n",
              "      <td>Reg</td>\n",
              "      <td>Lvl</td>\n",
              "      <td>AllPub</td>\n",
              "      <td>Inside</td>\n",
              "      <td>Gtl</td>\n",
              "      <td>CollgCr</td>\n",
              "      <td>Norm</td>\n",
              "      <td>1Fam</td>\n",
              "      <td>...</td>\n",
              "      <td>Y</td>\n",
              "      <td>SBrkr</td>\n",
              "      <td>Gd</td>\n",
              "      <td>Typ</td>\n",
              "      <td>Gd</td>\n",
              "      <td>Attchd</td>\n",
              "      <td>RFn</td>\n",
              "      <td>TA</td>\n",
              "      <td>TA</td>\n",
              "      <td>Y</td>\n",
              "    </tr>\n",
              "    <tr>\n",
              "      <th>1</th>\n",
              "      <td>RL</td>\n",
              "      <td>Pave</td>\n",
              "      <td>Reg</td>\n",
              "      <td>Lvl</td>\n",
              "      <td>AllPub</td>\n",
              "      <td>FR2</td>\n",
              "      <td>Gtl</td>\n",
              "      <td>Veenker</td>\n",
              "      <td>Norm</td>\n",
              "      <td>1Fam</td>\n",
              "      <td>...</td>\n",
              "      <td>Y</td>\n",
              "      <td>SBrkr</td>\n",
              "      <td>TA</td>\n",
              "      <td>Typ</td>\n",
              "      <td>TA</td>\n",
              "      <td>Attchd</td>\n",
              "      <td>RFn</td>\n",
              "      <td>TA</td>\n",
              "      <td>TA</td>\n",
              "      <td>Y</td>\n",
              "    </tr>\n",
              "    <tr>\n",
              "      <th>2</th>\n",
              "      <td>RL</td>\n",
              "      <td>Pave</td>\n",
              "      <td>IR1</td>\n",
              "      <td>Lvl</td>\n",
              "      <td>AllPub</td>\n",
              "      <td>Inside</td>\n",
              "      <td>Gtl</td>\n",
              "      <td>CollgCr</td>\n",
              "      <td>Norm</td>\n",
              "      <td>1Fam</td>\n",
              "      <td>...</td>\n",
              "      <td>Y</td>\n",
              "      <td>SBrkr</td>\n",
              "      <td>Gd</td>\n",
              "      <td>Typ</td>\n",
              "      <td>TA</td>\n",
              "      <td>Attchd</td>\n",
              "      <td>RFn</td>\n",
              "      <td>TA</td>\n",
              "      <td>TA</td>\n",
              "      <td>Y</td>\n",
              "    </tr>\n",
              "    <tr>\n",
              "      <th>3</th>\n",
              "      <td>RL</td>\n",
              "      <td>Pave</td>\n",
              "      <td>IR1</td>\n",
              "      <td>Lvl</td>\n",
              "      <td>AllPub</td>\n",
              "      <td>Corner</td>\n",
              "      <td>Gtl</td>\n",
              "      <td>Crawfor</td>\n",
              "      <td>Norm</td>\n",
              "      <td>1Fam</td>\n",
              "      <td>...</td>\n",
              "      <td>Y</td>\n",
              "      <td>SBrkr</td>\n",
              "      <td>Gd</td>\n",
              "      <td>Typ</td>\n",
              "      <td>Gd</td>\n",
              "      <td>Detchd</td>\n",
              "      <td>Unf</td>\n",
              "      <td>TA</td>\n",
              "      <td>TA</td>\n",
              "      <td>Y</td>\n",
              "    </tr>\n",
              "    <tr>\n",
              "      <th>4</th>\n",
              "      <td>RL</td>\n",
              "      <td>Pave</td>\n",
              "      <td>IR1</td>\n",
              "      <td>Lvl</td>\n",
              "      <td>AllPub</td>\n",
              "      <td>FR2</td>\n",
              "      <td>Gtl</td>\n",
              "      <td>NoRidge</td>\n",
              "      <td>Norm</td>\n",
              "      <td>1Fam</td>\n",
              "      <td>...</td>\n",
              "      <td>Y</td>\n",
              "      <td>SBrkr</td>\n",
              "      <td>Gd</td>\n",
              "      <td>Typ</td>\n",
              "      <td>TA</td>\n",
              "      <td>Attchd</td>\n",
              "      <td>RFn</td>\n",
              "      <td>TA</td>\n",
              "      <td>TA</td>\n",
              "      <td>Y</td>\n",
              "    </tr>\n",
              "    <tr>\n",
              "      <th>...</th>\n",
              "      <td>...</td>\n",
              "      <td>...</td>\n",
              "      <td>...</td>\n",
              "      <td>...</td>\n",
              "      <td>...</td>\n",
              "      <td>...</td>\n",
              "      <td>...</td>\n",
              "      <td>...</td>\n",
              "      <td>...</td>\n",
              "      <td>...</td>\n",
              "      <td>...</td>\n",
              "      <td>...</td>\n",
              "      <td>...</td>\n",
              "      <td>...</td>\n",
              "      <td>...</td>\n",
              "      <td>...</td>\n",
              "      <td>...</td>\n",
              "      <td>...</td>\n",
              "      <td>...</td>\n",
              "      <td>...</td>\n",
              "      <td>...</td>\n",
              "    </tr>\n",
              "    <tr>\n",
              "      <th>1455</th>\n",
              "      <td>RL</td>\n",
              "      <td>Pave</td>\n",
              "      <td>Reg</td>\n",
              "      <td>Lvl</td>\n",
              "      <td>AllPub</td>\n",
              "      <td>Inside</td>\n",
              "      <td>Gtl</td>\n",
              "      <td>Gilbert</td>\n",
              "      <td>Norm</td>\n",
              "      <td>1Fam</td>\n",
              "      <td>...</td>\n",
              "      <td>Y</td>\n",
              "      <td>SBrkr</td>\n",
              "      <td>TA</td>\n",
              "      <td>Typ</td>\n",
              "      <td>TA</td>\n",
              "      <td>Attchd</td>\n",
              "      <td>RFn</td>\n",
              "      <td>TA</td>\n",
              "      <td>TA</td>\n",
              "      <td>Y</td>\n",
              "    </tr>\n",
              "    <tr>\n",
              "      <th>1456</th>\n",
              "      <td>RL</td>\n",
              "      <td>Pave</td>\n",
              "      <td>Reg</td>\n",
              "      <td>Lvl</td>\n",
              "      <td>AllPub</td>\n",
              "      <td>Inside</td>\n",
              "      <td>Gtl</td>\n",
              "      <td>NWAmes</td>\n",
              "      <td>Norm</td>\n",
              "      <td>1Fam</td>\n",
              "      <td>...</td>\n",
              "      <td>Y</td>\n",
              "      <td>SBrkr</td>\n",
              "      <td>TA</td>\n",
              "      <td>Min1</td>\n",
              "      <td>TA</td>\n",
              "      <td>Attchd</td>\n",
              "      <td>Unf</td>\n",
              "      <td>TA</td>\n",
              "      <td>TA</td>\n",
              "      <td>Y</td>\n",
              "    </tr>\n",
              "    <tr>\n",
              "      <th>1457</th>\n",
              "      <td>RL</td>\n",
              "      <td>Pave</td>\n",
              "      <td>Reg</td>\n",
              "      <td>Lvl</td>\n",
              "      <td>AllPub</td>\n",
              "      <td>Inside</td>\n",
              "      <td>Gtl</td>\n",
              "      <td>Crawfor</td>\n",
              "      <td>Norm</td>\n",
              "      <td>1Fam</td>\n",
              "      <td>...</td>\n",
              "      <td>Y</td>\n",
              "      <td>SBrkr</td>\n",
              "      <td>Gd</td>\n",
              "      <td>Typ</td>\n",
              "      <td>Gd</td>\n",
              "      <td>Attchd</td>\n",
              "      <td>RFn</td>\n",
              "      <td>TA</td>\n",
              "      <td>TA</td>\n",
              "      <td>Y</td>\n",
              "    </tr>\n",
              "    <tr>\n",
              "      <th>1458</th>\n",
              "      <td>RL</td>\n",
              "      <td>Pave</td>\n",
              "      <td>Reg</td>\n",
              "      <td>Lvl</td>\n",
              "      <td>AllPub</td>\n",
              "      <td>Inside</td>\n",
              "      <td>Gtl</td>\n",
              "      <td>NAmes</td>\n",
              "      <td>Norm</td>\n",
              "      <td>1Fam</td>\n",
              "      <td>...</td>\n",
              "      <td>Y</td>\n",
              "      <td>FuseA</td>\n",
              "      <td>Gd</td>\n",
              "      <td>Typ</td>\n",
              "      <td>Gd</td>\n",
              "      <td>Attchd</td>\n",
              "      <td>Unf</td>\n",
              "      <td>TA</td>\n",
              "      <td>TA</td>\n",
              "      <td>Y</td>\n",
              "    </tr>\n",
              "    <tr>\n",
              "      <th>1459</th>\n",
              "      <td>RL</td>\n",
              "      <td>Pave</td>\n",
              "      <td>Reg</td>\n",
              "      <td>Lvl</td>\n",
              "      <td>AllPub</td>\n",
              "      <td>Inside</td>\n",
              "      <td>Gtl</td>\n",
              "      <td>Edwards</td>\n",
              "      <td>Norm</td>\n",
              "      <td>1Fam</td>\n",
              "      <td>...</td>\n",
              "      <td>Y</td>\n",
              "      <td>SBrkr</td>\n",
              "      <td>TA</td>\n",
              "      <td>Typ</td>\n",
              "      <td>Gd</td>\n",
              "      <td>Attchd</td>\n",
              "      <td>Fin</td>\n",
              "      <td>TA</td>\n",
              "      <td>TA</td>\n",
              "      <td>Y</td>\n",
              "    </tr>\n",
              "  </tbody>\n",
              "</table>\n",
              "<p>1422 rows × 39 columns</p>\n",
              "</div>\n",
              "      <button class=\"colab-df-convert\" onclick=\"convertToInteractive('df-0f3fb0db-fbce-4c21-9343-197ca237858c')\"\n",
              "              title=\"Convert this dataframe to an interactive table.\"\n",
              "              style=\"display:none;\">\n",
              "        \n",
              "  <svg xmlns=\"http://www.w3.org/2000/svg\" height=\"24px\"viewBox=\"0 0 24 24\"\n",
              "       width=\"24px\">\n",
              "    <path d=\"M0 0h24v24H0V0z\" fill=\"none\"/>\n",
              "    <path d=\"M18.56 5.44l.94 2.06.94-2.06 2.06-.94-2.06-.94-.94-2.06-.94 2.06-2.06.94zm-11 1L8.5 8.5l.94-2.06 2.06-.94-2.06-.94L8.5 2.5l-.94 2.06-2.06.94zm10 10l.94 2.06.94-2.06 2.06-.94-2.06-.94-.94-2.06-.94 2.06-2.06.94z\"/><path d=\"M17.41 7.96l-1.37-1.37c-.4-.4-.92-.59-1.43-.59-.52 0-1.04.2-1.43.59L10.3 9.45l-7.72 7.72c-.78.78-.78 2.05 0 2.83L4 21.41c.39.39.9.59 1.41.59.51 0 1.02-.2 1.41-.59l7.78-7.78 2.81-2.81c.8-.78.8-2.07 0-2.86zM5.41 20L4 18.59l7.72-7.72 1.47 1.35L5.41 20z\"/>\n",
              "  </svg>\n",
              "      </button>\n",
              "      \n",
              "  <style>\n",
              "    .colab-df-container {\n",
              "      display:flex;\n",
              "      flex-wrap:wrap;\n",
              "      gap: 12px;\n",
              "    }\n",
              "\n",
              "    .colab-df-convert {\n",
              "      background-color: #E8F0FE;\n",
              "      border: none;\n",
              "      border-radius: 50%;\n",
              "      cursor: pointer;\n",
              "      display: none;\n",
              "      fill: #1967D2;\n",
              "      height: 32px;\n",
              "      padding: 0 0 0 0;\n",
              "      width: 32px;\n",
              "    }\n",
              "\n",
              "    .colab-df-convert:hover {\n",
              "      background-color: #E2EBFA;\n",
              "      box-shadow: 0px 1px 2px rgba(60, 64, 67, 0.3), 0px 1px 3px 1px rgba(60, 64, 67, 0.15);\n",
              "      fill: #174EA6;\n",
              "    }\n",
              "\n",
              "    [theme=dark] .colab-df-convert {\n",
              "      background-color: #3B4455;\n",
              "      fill: #D2E3FC;\n",
              "    }\n",
              "\n",
              "    [theme=dark] .colab-df-convert:hover {\n",
              "      background-color: #434B5C;\n",
              "      box-shadow: 0px 1px 3px 1px rgba(0, 0, 0, 0.15);\n",
              "      filter: drop-shadow(0px 1px 2px rgba(0, 0, 0, 0.3));\n",
              "      fill: #FFFFFF;\n",
              "    }\n",
              "  </style>\n",
              "\n",
              "      <script>\n",
              "        const buttonEl =\n",
              "          document.querySelector('#df-0f3fb0db-fbce-4c21-9343-197ca237858c button.colab-df-convert');\n",
              "        buttonEl.style.display =\n",
              "          google.colab.kernel.accessAllowed ? 'block' : 'none';\n",
              "\n",
              "        async function convertToInteractive(key) {\n",
              "          const element = document.querySelector('#df-0f3fb0db-fbce-4c21-9343-197ca237858c');\n",
              "          const dataTable =\n",
              "            await google.colab.kernel.invokeFunction('convertToInteractive',\n",
              "                                                     [key], {});\n",
              "          if (!dataTable) return;\n",
              "\n",
              "          const docLinkHtml = 'Like what you see? Visit the ' +\n",
              "            '<a target=\"_blank\" href=https://colab.research.google.com/notebooks/data_table.ipynb>data table notebook</a>'\n",
              "            + ' to learn more about interactive tables.';\n",
              "          element.innerHTML = '';\n",
              "          dataTable['output_type'] = 'display_data';\n",
              "          await google.colab.output.renderOutput(dataTable, element);\n",
              "          const docLink = document.createElement('div');\n",
              "          docLink.innerHTML = docLinkHtml;\n",
              "          element.appendChild(docLink);\n",
              "        }\n",
              "      </script>\n",
              "    </div>\n",
              "  </div>\n",
              "  "
            ],
            "text/plain": [
              "     MSZoning Street LotShape LandContour Utilities LotConfig LandSlope  \\\n",
              "0          RL   Pave      Reg         Lvl    AllPub    Inside       Gtl   \n",
              "1          RL   Pave      Reg         Lvl    AllPub       FR2       Gtl   \n",
              "2          RL   Pave      IR1         Lvl    AllPub    Inside       Gtl   \n",
              "3          RL   Pave      IR1         Lvl    AllPub    Corner       Gtl   \n",
              "4          RL   Pave      IR1         Lvl    AllPub       FR2       Gtl   \n",
              "...       ...    ...      ...         ...       ...       ...       ...   \n",
              "1455       RL   Pave      Reg         Lvl    AllPub    Inside       Gtl   \n",
              "1456       RL   Pave      Reg         Lvl    AllPub    Inside       Gtl   \n",
              "1457       RL   Pave      Reg         Lvl    AllPub    Inside       Gtl   \n",
              "1458       RL   Pave      Reg         Lvl    AllPub    Inside       Gtl   \n",
              "1459       RL   Pave      Reg         Lvl    AllPub    Inside       Gtl   \n",
              "\n",
              "     Neighborhood Condition2 BldgType  ... CentralAir Electrical KitchenQual  \\\n",
              "0         CollgCr       Norm     1Fam  ...          Y      SBrkr          Gd   \n",
              "1         Veenker       Norm     1Fam  ...          Y      SBrkr          TA   \n",
              "2         CollgCr       Norm     1Fam  ...          Y      SBrkr          Gd   \n",
              "3         Crawfor       Norm     1Fam  ...          Y      SBrkr          Gd   \n",
              "4         NoRidge       Norm     1Fam  ...          Y      SBrkr          Gd   \n",
              "...           ...        ...      ...  ...        ...        ...         ...   \n",
              "1455      Gilbert       Norm     1Fam  ...          Y      SBrkr          TA   \n",
              "1456       NWAmes       Norm     1Fam  ...          Y      SBrkr          TA   \n",
              "1457      Crawfor       Norm     1Fam  ...          Y      SBrkr          Gd   \n",
              "1458        NAmes       Norm     1Fam  ...          Y      FuseA          Gd   \n",
              "1459      Edwards       Norm     1Fam  ...          Y      SBrkr          TA   \n",
              "\n",
              "     Functional FireplaceQu GarageType GarageFinish GarageQual GarageCond  \\\n",
              "0           Typ          Gd     Attchd          RFn         TA         TA   \n",
              "1           Typ          TA     Attchd          RFn         TA         TA   \n",
              "2           Typ          TA     Attchd          RFn         TA         TA   \n",
              "3           Typ          Gd     Detchd          Unf         TA         TA   \n",
              "4           Typ          TA     Attchd          RFn         TA         TA   \n",
              "...         ...         ...        ...          ...        ...        ...   \n",
              "1455        Typ          TA     Attchd          RFn         TA         TA   \n",
              "1456       Min1          TA     Attchd          Unf         TA         TA   \n",
              "1457        Typ          Gd     Attchd          RFn         TA         TA   \n",
              "1458        Typ          Gd     Attchd          Unf         TA         TA   \n",
              "1459        Typ          Gd     Attchd          Fin         TA         TA   \n",
              "\n",
              "     PavedDrive  \n",
              "0             Y  \n",
              "1             Y  \n",
              "2             Y  \n",
              "3             Y  \n",
              "4             Y  \n",
              "...         ...  \n",
              "1455          Y  \n",
              "1456          Y  \n",
              "1457          Y  \n",
              "1458          Y  \n",
              "1459          Y  \n",
              "\n",
              "[1422 rows x 39 columns]"
            ]
          },
          "execution_count": 47,
          "metadata": {},
          "output_type": "execute_result"
        }
      ],
      "source": [
        "data[columns]"
      ]
    },
    {
      "cell_type": "code",
      "execution_count": null,
      "metadata": {
        "colab": {
          "base_uri": "https://localhost:8080/"
        },
        "id": "6ck84OiSrXkW",
        "outputId": "af3c5ab7-9d93-461c-a1aa-25c56cda6047"
      },
      "outputs": [
        {
          "data": {
            "text/plain": [
              "39"
            ]
          },
          "execution_count": 48,
          "metadata": {},
          "output_type": "execute_result"
        }
      ],
      "source": [
        "len(columns)"
      ]
    },
    {
      "cell_type": "code",
      "execution_count": null,
      "metadata": {
        "id": "dLHBIq2EAYZF"
      },
      "outputs": [],
      "source": [
        "# Suppression des variables qualitatives\n",
        "data.drop(columns,axis=1,inplace=True)"
      ]
    },
    {
      "cell_type": "code",
      "execution_count": null,
      "metadata": {
        "colab": {
          "base_uri": "https://localhost:8080/"
        },
        "id": "O2b0j3tGBY5y",
        "outputId": "f29af8c6-9dde-4f4c-814f-eb914b20b34d"
      },
      "outputs": [
        {
          "data": {
            "text/plain": [
              "Index(['MSSubClass', 'LotFrontage', 'LotArea', 'OverallQual', 'OverallCond',\n",
              "       'YearBuilt', 'YearRemodAdd', 'MasVnrArea', 'BsmtFinSF1', 'BsmtFinSF2',\n",
              "       'BsmtUnfSF', 'TotalBsmtSF', '1stFlrSF', '2ndFlrSF', 'LowQualFinSF',\n",
              "       'GrLivArea', 'BsmtFullBath', 'BsmtHalfBath', 'FullBath', 'HalfBath',\n",
              "       'BedroomAbvGr', 'KitchenAbvGr', 'TotRmsAbvGrd', 'Fireplaces',\n",
              "       'GarageCars', 'GarageArea', 'WoodDeckSF', 'OpenPorchSF',\n",
              "       'EnclosedPorch', '3SsnPorch', 'ScreenPorch', 'PoolArea', 'MiscVal',\n",
              "       'MoSold', 'YrSold', 'SalePrice'],\n",
              "      dtype='object')"
            ]
          },
          "execution_count": 50,
          "metadata": {},
          "output_type": "execute_result"
        }
      ],
      "source": [
        "data.columns"
      ]
    },
    {
      "cell_type": "markdown",
      "metadata": {
        "id": "C2htDAnc7SU4"
      },
      "source": [
        "### Netoyage du Test_set\n",
        "\n",
        "\n"
      ]
    },
    {
      "cell_type": "code",
      "execution_count": null,
      "metadata": {
        "id": "LoRn8yEq8aay"
      },
      "outputs": [],
      "source": [
        "Test_data=pd.read_csv('./datakaggle/test.csv')"
      ]
    },
    {
      "cell_type": "code",
      "execution_count": null,
      "metadata": {
        "colab": {
          "base_uri": "https://localhost:8080/"
        },
        "id": "D_xbs0Qz9qpF",
        "outputId": "5f91a2c2-6a45-49f0-9f6b-fb711f99fc44"
      },
      "outputs": [
        {
          "data": {
            "text/plain": [
              "Index(['Id', 'MSSubClass', 'MSZoning', 'LotFrontage', 'LotArea', 'Street',\n",
              "       'Alley', 'LotShape', 'LandContour', 'Utilities', 'LotConfig',\n",
              "       'LandSlope', 'Neighborhood', 'Condition1', 'Condition2', 'BldgType',\n",
              "       'HouseStyle', 'OverallQual', 'OverallCond', 'YearBuilt', 'YearRemodAdd',\n",
              "       'RoofStyle', 'RoofMatl', 'Exterior1st', 'Exterior2nd', 'MasVnrType',\n",
              "       'MasVnrArea', 'ExterQual', 'ExterCond', 'Foundation', 'BsmtQual',\n",
              "       'BsmtCond', 'BsmtExposure', 'BsmtFinType1', 'BsmtFinSF1',\n",
              "       'BsmtFinType2', 'BsmtFinSF2', 'BsmtUnfSF', 'TotalBsmtSF', 'Heating',\n",
              "       'HeatingQC', 'CentralAir', 'Electrical', '1stFlrSF', '2ndFlrSF',\n",
              "       'LowQualFinSF', 'GrLivArea', 'BsmtFullBath', 'BsmtHalfBath', 'FullBath',\n",
              "       'HalfBath', 'BedroomAbvGr', 'KitchenAbvGr', 'KitchenQual',\n",
              "       'TotRmsAbvGrd', 'Functional', 'Fireplaces', 'FireplaceQu', 'GarageType',\n",
              "       'GarageYrBlt', 'GarageFinish', 'GarageCars', 'GarageArea', 'GarageQual',\n",
              "       'GarageCond', 'PavedDrive', 'WoodDeckSF', 'OpenPorchSF',\n",
              "       'EnclosedPorch', '3SsnPorch', 'ScreenPorch', 'PoolArea', 'PoolQC',\n",
              "       'Fence', 'MiscFeature', 'MiscVal', 'MoSold', 'YrSold', 'SaleType',\n",
              "       'SaleCondition'],\n",
              "      dtype='object')"
            ]
          },
          "execution_count": 52,
          "metadata": {},
          "output_type": "execute_result"
        }
      ],
      "source": [
        "Test_data.columns"
      ]
    },
    {
      "cell_type": "code",
      "execution_count": null,
      "metadata": {
        "colab": {
          "base_uri": "https://localhost:8080/"
        },
        "id": "p8OiQ45D9-Fq",
        "outputId": "d3ad576a-6ed7-4837-babf-1dacc135ab77"
      },
      "outputs": [
        {
          "data": {
            "text/plain": [
              "<matplotlib.axes._subplots.AxesSubplot at 0x7fa34dd7b8e0>"
            ]
          },
          "execution_count": 53,
          "metadata": {},
          "output_type": "execute_result"
        },
        {
          "data": {
            "image/png": "[encoded data removed]",
            "text/plain": [
              "<Figure size 432x288 with 1 Axes>"
            ]
          },
          "metadata": {
            "needs_background": "light"
          },
          "output_type": "display_data"
        }
      ],
      "source": [
        "#Test_data['MSZoning'].value_counts()\n",
        "sns.heatmap(Test_data.isnull(),yticklabels=False,cbar=False)"
      ]
    },
    {
      "cell_type": "code",
      "execution_count": null,
      "metadata": {
        "colab": {
          "base_uri": "https://localhost:8080/"
        },
        "id": "xIv-n5xtAIty",
        "outputId": "7a37b324-1937-462c-83be-e329361d1f7c"
      },
      "outputs": [
        {
          "data": {
            "text/plain": [
              "(1459, 80)"
            ]
          },
          "execution_count": 54,
          "metadata": {},
          "output_type": "execute_result"
        }
      ],
      "source": [
        "Test_data.shape\n"
      ]
    },
    {
      "cell_type": "code",
      "execution_count": null,
      "metadata": {
        "colab": {
          "base_uri": "https://localhost:8080/"
        },
        "id": "tYNU-j1sA85B",
        "outputId": "e325dd0a-8c60-4b4e-9337-f1c8c4c0da75"
      },
      "outputs": [
        {
          "data": {
            "text/plain": [
              "<bound method DataFrame.info of         Id  MSSubClass MSZoning  LotFrontage  LotArea Street Alley LotShape  \\\n",
              "0     1461          20       RH         80.0    11622   Pave   NaN      Reg   \n",
              "1     1462          20       RL         81.0    14267   Pave   NaN      IR1   \n",
              "2     1463          60       RL         74.0    13830   Pave   NaN      IR1   \n",
              "3     1464          60       RL         78.0     9978   Pave   NaN      IR1   \n",
              "4     1465         120       RL         43.0     5005   Pave   NaN      IR1   \n",
              "...    ...         ...      ...          ...      ...    ...   ...      ...   \n",
              "1454  2915         160       RM         21.0     1936   Pave   NaN      Reg   \n",
              "1455  2916         160       RM         21.0     1894   Pave   NaN      Reg   \n",
              "1456  2917          20       RL        160.0    20000   Pave   NaN      Reg   \n",
              "1457  2918          85       RL         62.0    10441   Pave   NaN      Reg   \n",
              "1458  2919          60       RL         74.0     9627   Pave   NaN      Reg   \n",
              "\n",
              "     LandContour Utilities  ... ScreenPorch PoolArea PoolQC  Fence  \\\n",
              "0            Lvl    AllPub  ...         120        0    NaN  MnPrv   \n",
              "1            Lvl    AllPub  ...           0        0    NaN    NaN   \n",
              "2            Lvl    AllPub  ...           0        0    NaN  MnPrv   \n",
              "3            Lvl    AllPub  ...           0        0    NaN    NaN   \n",
              "4            HLS    AllPub  ...         144        0    NaN    NaN   \n",
              "...          ...       ...  ...         ...      ...    ...    ...   \n",
              "1454         Lvl    AllPub  ...           0        0    NaN    NaN   \n",
              "1455         Lvl    AllPub  ...           0        0    NaN    NaN   \n",
              "1456         Lvl    AllPub  ...           0        0    NaN    NaN   \n",
              "1457         Lvl    AllPub  ...           0        0    NaN  MnPrv   \n",
              "1458         Lvl    AllPub  ...           0        0    NaN    NaN   \n",
              "\n",
              "     MiscFeature MiscVal MoSold  YrSold  SaleType  SaleCondition  \n",
              "0            NaN       0      6    2010        WD         Normal  \n",
              "1           Gar2   12500      6    2010        WD         Normal  \n",
              "2            NaN       0      3    2010        WD         Normal  \n",
              "3            NaN       0      6    2010        WD         Normal  \n",
              "4            NaN       0      1    2010        WD         Normal  \n",
              "...          ...     ...    ...     ...       ...            ...  \n",
              "1454         NaN       0      6    2006        WD         Normal  \n",
              "1455         NaN       0      4    2006        WD        Abnorml  \n",
              "1456         NaN       0      9    2006        WD        Abnorml  \n",
              "1457        Shed     700      7    2006        WD         Normal  \n",
              "1458         NaN       0     11    2006        WD         Normal  \n",
              "\n",
              "[1459 rows x 80 columns]>"
            ]
          },
          "execution_count": 55,
          "metadata": {},
          "output_type": "execute_result"
        }
      ],
      "source": [
        "Test_data.info"
      ]
    },
    {
      "cell_type": "code",
      "execution_count": null,
      "metadata": {
        "id": "8cUQa9JDA_Ke"
      },
      "outputs": [],
      "source": [
        "## Fill Missing Values\n",
        "\n",
        "Test_data['LotFrontage']=Test_data['LotFrontage'].fillna(Test_data['LotFrontage'].mean())"
      ]
    },
    {
      "cell_type": "code",
      "execution_count": null,
      "metadata": {
        "id": "P7Pk-Gn4BUXz"
      },
      "outputs": [],
      "source": [
        "Test_data.drop(['Alley'],axis=1,inplace=True)\n"
      ]
    },
    {
      "cell_type": "code",
      "execution_count": null,
      "metadata": {
        "id": "YHWV0tAaBxGC"
      },
      "outputs": [],
      "source": [
        "Test_data['BsmtCond']=Test_data['BsmtCond'].fillna(Test_data['BsmtCond'].mode()[0])\n",
        "Test_data['BsmtQual']=Test_data['BsmtQual'].fillna(Test_data['BsmtQual'].mode()[0])\n",
        "Test_data['FireplaceQu']=Test_data['FireplaceQu'].fillna(Test_data['FireplaceQu'].mode()[0])\n",
        "Test_data['GarageType']=Test_data['GarageType'].fillna(Test_data['GarageType'].mode()[0])\n"
      ]
    },
    {
      "cell_type": "code",
      "execution_count": null,
      "metadata": {
        "id": "nj-YGtRrB26P"
      },
      "outputs": [],
      "source": [
        "Test_data.drop(['GarageYrBlt'],axis=1,inplace=True)"
      ]
    },
    {
      "cell_type": "code",
      "execution_count": null,
      "metadata": {
        "id": "YKUWMNQKCXHC"
      },
      "outputs": [],
      "source": [
        "Test_data['GarageFinish']=Test_data['GarageFinish'].fillna(Test_data['GarageFinish'].mode()[0])\n",
        "Test_data['GarageQual']=Test_data['GarageQual'].fillna(Test_data['GarageQual'].mode()[0])\n",
        "Test_data['GarageCond']=Test_data['GarageCond'].fillna(Test_data['GarageCond'].mode()[0])"
      ]
    },
    {
      "cell_type": "code",
      "execution_count": null,
      "metadata": {
        "id": "c0KiOIk5CZV4"
      },
      "outputs": [],
      "source": [
        "Test_data.drop(['PoolQC','Fence','MiscFeature'],axis=1,inplace=True)"
      ]
    },
    {
      "cell_type": "code",
      "execution_count": null,
      "metadata": {
        "id": "slNNgRUNDgEC"
      },
      "outputs": [],
      "source": [
        "Test_data['MasVnrType']=Test_data['MasVnrType'].fillna(Test_data['MasVnrType'].mode()[0])\n",
        "Test_data['MasVnrArea']=Test_data['MasVnrArea'].fillna(Test_data['MasVnrArea'].mode()[0])"
      ]
    },
    {
      "cell_type": "code",
      "execution_count": null,
      "metadata": {
        "id": "J9EBD2CtEXhB"
      },
      "outputs": [],
      "source": [
        "Test_data.drop(columns,axis=1,inplace=True)"
      ]
    },
    {
      "cell_type": "code",
      "execution_count": null,
      "metadata": {
        "colab": {
          "base_uri": "https://localhost:8080/"
        },
        "id": "EuRRkeYFE2oj",
        "outputId": "9b863db1-e977-45e4-ee5e-4f9e0fe5761f"
      },
      "outputs": [
        {
          "data": {
            "text/plain": [
              "(1459, 36)"
            ]
          },
          "execution_count": 64,
          "metadata": {},
          "output_type": "execute_result"
        }
      ],
      "source": [
        "Test_data.shape"
      ]
    },
    {
      "cell_type": "code",
      "execution_count": null,
      "metadata": {
        "colab": {
          "base_uri": "https://localhost:8080/"
        },
        "id": "zqOhWChjFnpJ",
        "outputId": "e0975d0b-ecf2-4812-9e05-ec9bfc18bfa9"
      },
      "outputs": [
        {
          "data": {
            "text/plain": [
              "2"
            ]
          },
          "execution_count": 65,
          "metadata": {},
          "output_type": "execute_result"
        }
      ],
      "source": [
        "Test_data[\"BsmtFullBath\"].isna().sum()\n",
        "Test_data[\"BsmtHalfBath\"].isna().sum()\n"
      ]
    },
    {
      "cell_type": "code",
      "execution_count": null,
      "metadata": {
        "id": "BrVAFZXMG_e7"
      },
      "outputs": [],
      "source": [
        "Test_data['BsmtFullBath']=Test_data['BsmtFullBath'].fillna(Test_data['BsmtFullBath'].mean())\n",
        "Test_data['BsmtHalfBath']=Test_data['BsmtHalfBath'].fillna(Test_data['BsmtHalfBath'].mean())"
      ]
    },
    {
      "cell_type": "code",
      "execution_count": null,
      "metadata": {
        "colab": {
          "base_uri": "https://localhost:8080/"
        },
        "id": "21VFnAzjE9OV",
        "outputId": "ede64f91-de04-453d-dccc-4cd3d0553376"
      },
      "outputs": [
        {
          "data": {
            "text/plain": [
              "<matplotlib.axes._subplots.AxesSubplot at 0x7fa34e02f670>"
            ]
          },
          "execution_count": 67,
          "metadata": {},
          "output_type": "execute_result"
        },
        {
          "data": {
            "image/png": "[encoded data removed]",
            "text/plain": [
              "<Figure size 1440x360 with 1 Axes>"
            ]
          },
          "metadata": {
            "needs_background": "light"
          },
          "output_type": "display_data"
        }
      ],
      "source": [
        "fig, ax = plt.subplots(figsize=(20,5))         # Sample figsize in inches\n",
        "sns.heatmap(Test_data.isnull(),yticklabels=False, cbar=False, cmap='coolwarm', ax=ax)"
      ]
    },
    {
      "cell_type": "code",
      "execution_count": null,
      "metadata": {
        "colab": {
          "base_uri": "https://localhost:8080/"
        },
        "id": "jca8nSgHCk4b",
        "outputId": "02b91933-0ab8-4ed8-9da9-c2b2ffc48fec"
      },
      "outputs": [
        {
          "data": {
            "text/plain": [
              "(1459, 36)"
            ]
          },
          "execution_count": 68,
          "metadata": {},
          "output_type": "execute_result"
        }
      ],
      "source": [
        "test_copy=Test_data.copy()\n",
        "test_copy.shape\n"
      ]
    },
    {
      "cell_type": "code",
      "execution_count": null,
      "metadata": {
        "id": "-epd7IeGIBo5"
      },
      "outputs": [],
      "source": [
        "test_copy.drop(['Id'],axis=1,inplace=True)"
      ]
    },
    {
      "cell_type": "code",
      "execution_count": null,
      "metadata": {
        "colab": {
          "base_uri": "https://localhost:8080/"
        },
        "id": "BuQgkaw2Er0C",
        "outputId": "b2b85a21-ef03-439d-b275-784060eeb5de"
      },
      "outputs": [
        {
          "data": {
            "text/plain": [
              "(1459, 35)"
            ]
          },
          "execution_count": 70,
          "metadata": {},
          "output_type": "execute_result"
        }
      ],
      "source": [
        "test_copy.shape"
      ]
    },
    {
      "cell_type": "markdown",
      "metadata": {
        "id": "RO5d3jZ5wiMS"
      },
      "source": [
        "# Entrainer un modèle"
      ]
    },
    {
      "cell_type": "code",
      "execution_count": null,
      "metadata": {
        "id": "8gzCMDY1CUKX"
      },
      "outputs": [],
      "source": [
        "from sklearn.linear_model import LinearRegression\n",
        "from sklearn.model_selection import train_test_split\n",
        "from sklearn.metrics import mean_squared_error\n",
        "from sklearn.preprocessing import StandardScaler\n",
        "from sklearn.pipeline import make_pipeline"
      ]
    },
    {
      "cell_type": "code",
      "execution_count": null,
      "metadata": {
        "id": "F9vS7BmVEzj2"
      },
      "outputs": [],
      "source": [
        "# select X and y\n",
        "y = data.loc[:,'SalePrice']\n",
        "X = data.loc[:, data.columns != 'SalePrice']"
      ]
    },
    {
      "cell_type": "markdown",
      "metadata": {
        "id": "CkUrpifRHUR3"
      },
      "source": [
        "Diviser la data set en train et test set"
      ]
    },
    {
      "cell_type": "code",
      "execution_count": null,
      "metadata": {
        "id": "wmvgUMbCFmQE"
      },
      "outputs": [],
      "source": [
        "X_train, X_test, y_train, y_test = train_test_split(X, y, test_size=0.3)"
      ]
    },
    {
      "cell_type": "code",
      "execution_count": null,
      "metadata": {
        "id": "UO-Yki8NGG3I"
      },
      "outputs": [],
      "source": [
        "scaler = StandardScaler()\n",
        "scaled_train = scaler.fit_transform(X_train)\n",
        "scaled_test = scaler.fit_transform(X_test)"
      ]
    },
    {
      "cell_type": "code",
      "execution_count": null,
      "metadata": {
        "id": "_4xeyG7tG2F-"
      },
      "outputs": [],
      "source": [
        "model = LinearRegression()"
      ]
    },
    {
      "cell_type": "code",
      "execution_count": null,
      "metadata": {
        "colab": {
          "base_uri": "https://localhost:8080/"
        },
        "id": "kQmb9LySHy7z",
        "outputId": "7e596ee5-edd1-421c-e717-670287f86b7c"
      },
      "outputs": [
        {
          "data": {
            "text/plain": [
              "LinearRegression()"
            ]
          },
          "execution_count": 76,
          "metadata": {},
          "output_type": "execute_result"
        }
      ],
      "source": [
        "model.fit(scaled_train, y_train)"
      ]
    },
    {
      "cell_type": "code",
      "execution_count": null,
      "metadata": {
        "colab": {
          "base_uri": "https://localhost:8080/"
        },
        "id": "Z4tDunegLf0q",
        "outputId": "47062751-6aff-4f69-a722-7d2c46a3c6e1"
      },
      "outputs": [
        {
          "data": {
            "text/plain": [
              "array([ 7.46724025e+15,  1.01020209e+15, -1.46669957e+16,  1.28205486e+15,\n",
              "        7.23081103e+15,  7.88723034e+15,  4.19461717e+15, -7.30671850e+15,\n",
              "       -7.79733901e+15,  4.08770348e+15, -4.18749429e+15,  5.65872943e+15,\n",
              "       -1.28169867e+16, -8.03416211e+15, -9.51276550e+15, -1.13341180e+16,\n",
              "       -3.33540073e+15,  3.96667634e+15, -1.26508467e+16, -2.07390503e+16,\n",
              "        2.26534474e+15, -9.01974829e+15,  5.66793645e+15,  4.35659809e+14,\n",
              "       -1.09875722e+16,  6.07451481e+15, -8.00014323e+15,  9.62426096e+15,\n",
              "        7.51186877e+15, -6.19257619e+15,  1.18077785e+16, -9.67208910e+15,\n",
              "        1.99911327e+15,  1.56661835e+15,  4.78280179e+15, -1.29892558e+16,\n",
              "       -4.48305622e+15,  4.97835121e+15,  1.13106675e+16,  1.77577230e+15,\n",
              "        6.27627991e+15,  5.59933695e+15, -3.12193638e+15,  5.02049506e+15,\n",
              "       -1.27398818e+16,  3.52960523e+15, -1.53513942e+15, -9.36301960e+14,\n",
              "        2.87567005e+15, -1.13431014e+16, -3.40774770e+15,  6.60249021e+15,\n",
              "       -1.17659864e+16,  4.73037240e+15, -4.55892755e+15,  6.55738782e+15,\n",
              "       -3.83943218e+15,  3.70490946e+15,  2.68893437e+15, -1.15325835e+16,\n",
              "        5.53151037e+15,  1.09027524e+16,  1.19144143e+15, -4.69438199e+15,\n",
              "       -1.40344783e+15, -8.17909378e+15, -1.31430590e+16,  4.84374348e+15,\n",
              "        9.31449406e+15,  4.03124775e+15, -5.40356213e+15,  5.54470446e+15,\n",
              "        4.75631884e+15,  1.89032066e+15,  2.00876467e+15,  3.79537174e+15,\n",
              "        1.02857236e+16, -1.71705064e+15,  1.79332512e+15,  5.76856592e+15,\n",
              "        1.98316380e+15, -4.31778885e+15,  7.83624873e+15, -4.07788620e+15,\n",
              "       -1.83860877e+16,  3.46180087e+15, -1.31159488e+14, -3.80261641e+15,\n",
              "        3.54360693e+15, -7.16602727e+13, -2.31591093e+15, -1.56130829e+15,\n",
              "        3.52438114e+15,  2.80405453e+15,  3.31469477e+15, -1.06266787e+15,\n",
              "       -5.15923810e+15, -6.89363212e+14,  1.51322701e+15, -4.01857664e+15,\n",
              "        2.32390016e+15,  1.50778523e+15, -9.34632746e+15, -5.44857693e+15,\n",
              "       -7.95679180e+15,  1.02857236e+16, -3.21913369e+15,  6.80693333e+15,\n",
              "       -8.98714048e+15, -1.24245634e+16,  2.23353289e+15, -3.09024133e+15,\n",
              "        4.11331056e+15,  4.34454395e+14,  5.85682968e+15, -1.80026188e+15,\n",
              "        5.40708127e+15, -5.48312793e+15,  4.34836339e+15,  2.53915541e+15,\n",
              "       -2.34350196e+16,  4.92554213e+15, -1.14060493e+14, -1.11388345e+16,\n",
              "       -1.07444908e+16,  5.05505811e+15, -6.59586084e+15, -7.91944142e+15,\n",
              "       -1.38442495e+15,  2.20719159e+15, -2.12166804e+16, -5.76504822e+15,\n",
              "        5.10511611e+15, -1.20037869e+15,  7.23245659e+15,  5.31804527e+15,\n",
              "        4.45853416e+15, -2.44630949e+15, -3.10660090e+14,  1.84245466e+15,\n",
              "        1.21862971e+15, -2.13122409e+15,  4.06301944e+15,  5.20567744e+15,\n",
              "        6.59416494e+15, -1.05483743e+16,  4.64943484e+15, -1.31430590e+16,\n",
              "        2.23688786e+15, -1.73254264e+15,  8.85619532e+15,  4.71952898e+15,\n",
              "        5.75463029e+15,  6.07451481e+15,  4.12318671e+15,  1.77173323e+15,\n",
              "        2.36917501e+15, -5.32051181e+14,  5.67046009e+15,  2.11216048e+15,\n",
              "        7.89886408e+15, -1.08001794e+15,  4.86541430e+15,  4.57595798e+15,\n",
              "       -7.18047083e+15, -1.22471875e+16,  5.78586381e+15,  1.02801932e+15,\n",
              "        3.18483178e+15,  1.74871143e+15, -5.79364758e+14, -7.68975959e+15,\n",
              "        7.53767647e+15, -5.94969370e+14,  4.81304594e+14,  3.75142307e+15,\n",
              "       -1.68968326e+15,  3.26548184e+15,  8.14383435e+15, -1.91588325e+16,\n",
              "        1.75129497e+15,  5.49656506e+15, -5.85892426e+15,  9.39668352e+15,\n",
              "        1.76052808e+15,  1.75667503e+15,  1.40929895e+15,  4.02516762e+15,\n",
              "        8.37771838e+15, -7.29370047e+15,  3.58795165e+14, -4.68354945e+15,\n",
              "       -1.17851038e+15, -8.75380294e+15, -1.93699456e+16,  1.76371707e+15,\n",
              "       -7.87233115e+15,  7.45074774e+15,  6.05182846e+15,  2.84723831e+15,\n",
              "       -1.35227645e+16, -2.65489503e+15,  2.28079873e+15,  5.98008050e+15,\n",
              "        1.98719271e+15,  2.96158904e+15,  5.41452857e+15,  6.38866837e+15,\n",
              "        4.34944435e+15,  4.16534602e+15,  9.71886991e+14,  5.64901824e+15,\n",
              "        7.15944076e+15, -3.67922980e+15,  6.35041559e+15, -7.02319410e+15,\n",
              "       -4.23276004e+15, -1.43029765e+15, -1.09848941e+15, -1.84361123e+15,\n",
              "        8.44615836e+15,  7.49444487e+14,  6.09022106e+15,  5.19153864e+15,\n",
              "        9.29450679e+15,  4.71270037e+15, -1.13057160e+16, -1.15067467e+14,\n",
              "       -2.28475072e+15,  7.10012966e+15,  9.41514850e+14,  4.91726672e+15,\n",
              "       -7.05153065e+14,  6.13040781e+15, -5.02326044e+15, -9.07161984e+15,\n",
              "        1.35404539e+15,  1.32427415e+14,  3.27980654e+15,  7.02731562e+14,\n",
              "        6.01728033e+15,  8.26637603e+13, -4.16224932e+15,  5.24433625e+15,\n",
              "       -1.85511523e+15,  8.75717414e+15,  7.12339860e+15, -3.68172661e+15,\n",
              "       -2.06127269e+15,  1.93079040e+15,  2.42602781e+15,  3.09902830e+15,\n",
              "       -8.00464091e+15,  6.46689455e+15,  3.70733212e+15, -7.97097750e+15,\n",
              "        1.31764559e+15, -3.38850060e+15, -9.37709677e+15, -3.22468417e+15,\n",
              "        2.96697058e+15,  5.41781042e+15,  9.49453670e+15,  3.64341103e+15,\n",
              "       -3.46237143e+15,  4.46830412e+15,  3.23282562e+15, -1.09152733e+16,\n",
              "        2.33394906e+15,  1.19843380e+16,  6.94824193e+15, -1.61281334e+16,\n",
              "       -3.79246628e+15, -1.78014469e+16,  1.91424431e+15,  8.83728245e+15,\n",
              "        6.09186187e+15,  4.33170482e+15, -1.40132854e+15, -2.23827940e+15,\n",
              "        5.00264022e+15,  3.51033334e+15,  6.32499304e+15,  9.02190798e+15,\n",
              "       -4.43962717e+15,  9.55446142e+15,  8.62862831e+15,  4.43903077e+15,\n",
              "        3.05929320e+15,  3.87759010e+15,  8.03045498e+15, -2.05695070e+15,\n",
              "        1.59991136e+15,  4.26296478e+15,  9.02340293e+15, -2.40165719e+15,\n",
              "       -5.07507171e+16,  4.78964088e+15, -1.28783501e+16,  2.55931898e+15,\n",
              "        3.60891982e+15,  6.07718389e+15,  1.51322701e+15, -7.73145718e+15,\n",
              "        6.84887873e+15,  6.97317371e+15,  4.74389487e+15,  2.20550933e+15,\n",
              "        5.02802437e+15,  5.03068016e+15,  9.30229354e+15, -1.19329611e+16,\n",
              "       -1.71326002e+16,  5.59036921e+15, -1.19534189e+16,  1.99491418e+15,\n",
              "        7.22896812e+15,  3.93404272e+15,  9.29112138e+15,  4.08675159e+15,\n",
              "       -9.00202326e+15,  8.95031052e+15, -5.32567388e+15, -3.07497447e+15,\n",
              "       -8.69973103e+15,  1.96288506e+15,  2.14769641e+15,  4.91461408e+15,\n",
              "       -6.19298524e+15, -5.59213753e+15,  5.46253160e+15,  3.47372597e+15,\n",
              "        5.34737965e+15,  5.09254640e+15,  3.81287615e+15,  6.18346883e+15,\n",
              "        1.48797481e+15,  4.61909912e+15,  6.65403134e+15, -1.18699629e+16,\n",
              "        5.93519733e+15, -6.18772961e+15,  3.70245873e+15,  7.34691775e+15,\n",
              "       -6.89951493e+15,  8.77304895e+15,  5.22204096e+15,  7.10840208e+14,\n",
              "       -1.06191386e+16,  7.06950943e+14, -8.51699397e+15, -5.23960757e+15,\n",
              "       -5.43042420e+15,  3.35598724e+15, -1.51672852e+15,  9.41666237e+15,\n",
              "        1.76398076e+15, -4.66633631e+15,  2.15416127e+15, -3.18707070e+15,\n",
              "       -2.14818086e+15,  8.33445520e+14, -2.46250741e+16, -7.27983358e+15,\n",
              "       -8.38262507e+15, -4.12938418e+15, -4.16920332e+14,  4.48406009e+15,\n",
              "       -9.13622684e+15,  2.73126507e+15, -5.78228202e+15, -6.15861212e+15,\n",
              "        4.17627435e+15,  4.18924476e+15, -6.76782334e+15, -2.68272456e+15,\n",
              "       -6.39125199e+15,  6.65712669e+15,  7.48971339e+15,  9.77393603e+15,\n",
              "       -6.08624880e+15,  4.86871245e+15,  6.76464722e+15, -5.92831310e+15,\n",
              "       -4.28955182e+15, -1.11312411e+16,  2.29982824e+15,  6.35810357e+15,\n",
              "       -2.66814970e+15, -4.15552387e+14,  1.41593045e+15, -5.42259950e+15,\n",
              "       -2.68705748e+15,  2.00203890e+15,  3.17865267e+15, -9.34630643e+14,\n",
              "       -6.09587893e+15,  7.86376532e+15,  2.63102316e+13,  9.18958843e+15,\n",
              "        1.85364392e+15,  4.71229677e+15,  5.46879012e+15,  7.37877962e+15,\n",
              "        8.63697206e+15, -4.33203420e+15,  8.53424002e+15,  3.96131321e+15,\n",
              "       -4.33891628e+15, -7.08569741e+15, -8.32962624e+14, -4.01085463e+15,\n",
              "        1.75457722e+15,  3.01167041e+15,  4.19555369e+15,  4.15575061e+15,\n",
              "       -8.32603162e+14,  3.65537719e+15,  2.14118427e+15,  4.72134926e+15,\n",
              "       -4.04484993e+15, -1.39470749e+16,  2.71191441e+15, -1.14710061e+16,\n",
              "        1.18522955e+15,  3.68777106e+15, -5.69453852e+15])"
            ]
          },
          "execution_count": 77,
          "metadata": {},
          "output_type": "execute_result"
        }
      ],
      "source": [
        "y_pred =model.predict(scaled_test)\n",
        "y_pred"
      ]
    },
    {
      "cell_type": "code",
      "execution_count": null,
      "metadata": {
        "colab": {
          "base_uri": "https://localhost:8080/"
        },
        "id": "CZrPSEMi0lv3",
        "outputId": "4b34f86f-42d0-4162-df72-2cd74889c169"
      },
      "outputs": [
        {
          "name": "stdout",
          "output_type": "stream",
          "text": [
            "-4.4938401084579e+28\n"
          ]
        },
        {
          "name": "stderr",
          "output_type": "stream",
          "text": [
            "/usr/local/lib/python3.8/dist-packages/sklearn/base.py:443: UserWarning: X has feature names, but LinearRegression was fitted without feature names\n",
            "  warnings.warn(\n"
          ]
        }
      ],
      "source": [
        "\n",
        "print(model.score(X_train,y_train))"
      ]
    },
    {
      "cell_type": "markdown",
      "metadata": {
        "id": "apazJ-JvH7a5"
      },
      "source": [
        "Evaluer le model"
      ]
    },
    {
      "cell_type": "code",
      "execution_count": null,
      "metadata": {
        "id": "5Yuntj3HI8Qn"
      },
      "outputs": [],
      "source": [
        "mse = mean_squared_error(y_test, y_pred)"
      ]
    },
    {
      "cell_type": "code",
      "execution_count": null,
      "metadata": {
        "colab": {
          "base_uri": "https://localhost:8080/"
        },
        "id": "Bb65jx8tRhQk",
        "outputId": "81c3eba2-7561-45be-de9c-a3556fc4f68e"
      },
      "outputs": [
        {
          "data": {
            "text/plain": [
              "7078768459572369.0"
            ]
          },
          "execution_count": 80,
          "metadata": {},
          "output_type": "execute_result"
        }
      ],
      "source": [
        "import math\n",
        "rmse = math.sqrt(mse)\n",
        "rmse"
      ]
    },
    {
      "cell_type": "code",
      "execution_count": null,
      "metadata": {
        "colab": {
          "base_uri": "https://localhost:8080/"
        },
        "id": "-JYf_WbQTxsk",
        "outputId": "2e3251af-2aee-413f-a7b5-95e0b7f3319c"
      },
      "outputs": [
        {
          "data": {
            "text/plain": [
              "518     211000\n",
              "538     158000\n",
              "1318    275000\n",
              "387     125000\n",
              "59      124900\n",
              "         ...  \n",
              "419     142000\n",
              "1359    315000\n",
              "21      139400\n",
              "746     236000\n",
              "326     324000\n",
              "Name: SalePrice, Length: 427, dtype: int64"
            ]
          },
          "execution_count": 81,
          "metadata": {},
          "output_type": "execute_result"
        }
      ],
      "source": [
        "y_test"
      ]
    },
    {
      "cell_type": "markdown",
      "metadata": {
        "id": "hZnOEiuEvtaP"
      },
      "source": [
        "## Modèle avancé"
      ]
    },
    {
      "cell_type": "markdown",
      "metadata": {
        "id": "MOT4Bulzvs-E"
      },
      "source": [
        "XGBoost"
      ]
    },
    {
      "cell_type": "code",
      "execution_count": null,
      "metadata": {
        "id": "lm572InpWTPw"
      },
      "outputs": [],
      "source": [
        "# install xgboost\n",
        "#! pip install xgboost"
      ]
    },
    {
      "cell_type": "code",
      "execution_count": null,
      "metadata": {
        "id": "mPMj4c7NWl43"
      },
      "outputs": [],
      "source": [
        "from xgboost import XGBRegressor"
      ]
    },
    {
      "cell_type": "code",
      "execution_count": null,
      "metadata": {
        "id": "nUZ6NSyZvpoX"
      },
      "outputs": [],
      "source": [
        "# create an xgboost regression model\n",
        "pipeline = make_pipeline(StandardScaler(), XGBRegressor())"
      ]
    },
    {
      "cell_type": "code",
      "execution_count": null,
      "metadata": {
        "colab": {
          "base_uri": "https://localhost:8080/"
        },
        "id": "-RE8y5CIXwKx",
        "outputId": "9e9c5a1e-6872-4ffa-dd99-818d7320170c"
      },
      "outputs": [
        {
          "name": "stdout",
          "output_type": "stream",
          "text": [
            "[00:40:20] WARNING: /workspace/src/objective/regression_obj.cu:152: reg:linear is now deprecated in favor of reg:squarederror.\n"
          ]
        },
        {
          "data": {
            "text/plain": [
              "Pipeline(steps=[('standardscaler', StandardScaler()),\n",
              "                ('xgbregressor', XGBRegressor())])"
            ]
          },
          "execution_count": 85,
          "metadata": {},
          "output_type": "execute_result"
        }
      ],
      "source": [
        "pipeline.fit(X_train, y_train)"
      ]
    },
    {
      "cell_type": "code",
      "execution_count": null,
      "metadata": {
        "id": "0wcoePJvX8Vd"
      },
      "outputs": [],
      "source": [
        "y_pred = pipeline.predict(X_test)"
      ]
    },
    {
      "cell_type": "code",
      "execution_count": null,
      "metadata": {
        "colab": {
          "base_uri": "https://localhost:8080/"
        },
        "id": "qzCir1gC1yzA",
        "outputId": "564f2937-53ef-4f8a-bf90-3a3398254b2d"
      },
      "outputs": [
        {
          "name": "stdout",
          "output_type": "stream",
          "text": [
            "0.9630610236237012\n",
            "0.8946575672830811\n"
          ]
        }
      ],
      "source": [
        "print(pipeline.score(X_train,y_train))\n",
        "print(pipeline.score(X_test,y_test))"
      ]
    },
    {
      "cell_type": "code",
      "execution_count": null,
      "metadata": {
        "colab": {
          "base_uri": "https://localhost:8080/"
        },
        "id": "fWB0B3mXYHoH",
        "outputId": "039ff736-0326-46cc-f05e-67d2b8b50c75"
      },
      "outputs": [
        {
          "data": {
            "text/plain": [
              "24157.164583112255"
            ]
          },
          "execution_count": 88,
          "metadata": {},
          "output_type": "execute_result"
        }
      ],
      "source": [
        "rmse = math.sqrt(mean_squared_error(y_test, y_pred))\n",
        "rmse"
      ]
    },
    {
      "cell_type": "code",
      "execution_count": null,
      "metadata": {
        "colab": {
          "base_uri": "https://localhost:8080/"
        },
        "id": "Ed5ARAveYaVa",
        "outputId": "8b8c4930-457a-41b1-fa23-872d1765c639"
      },
      "outputs": [
        {
          "data": {
            "text/plain": [
              "array([193405.3  , 138965.5  , 263104.4  , 142265.19 , 121747.42 ,\n",
              "       161084.95 , 114980.28 , 243070.84 , 170220.97 , 194743.39 ,\n",
              "       227315.84 , 211134.58 , 285733.47 , 199301.72 , 216845.9  ,\n",
              "       278638.78 , 261607.67 , 132970.3  , 128007.04 , 538422.44 ,\n",
              "       172666.1  , 339025.94 , 102114.79 , 136878.47 , 245440.47 ,\n",
              "       166776.78 , 200239.72 , 160899.56 , 121445.11 , 215586.67 ,\n",
              "       122218.46 , 424485.6  , 139349.1  , 189294.27 , 124699.67 ,\n",
              "       214683.72 , 169975.23 , 128083.055, 145051.14 , 174095.23 ,\n",
              "       148122.88 , 114856.266, 155796.5  ,  99102.695, 402936.66 ,\n",
              "       207593.3  , 213161.5  , 268260.38 , 191093.44 , 356337.56 ,\n",
              "       210248.5  , 125224.92 , 334793.56 ,  97314.86 , 192745.62 ,\n",
              "       209912.38 , 177670.25 , 212203.72 , 142822.78 , 217273.14 ,\n",
              "       184028.45 , 191663.08 , 198514.   , 177692.25 , 190475.03 ,\n",
              "       296088.25 , 273630.   ,  98156.83 , 152052.84 , 198772.61 ,\n",
              "       152330.19 , 124374.89 , 129114.68 ,  89504.516, 141596.53 ,\n",
              "       238490.77 , 154161.42 , 157524.12 , 157259.64 , 126012.32 ,\n",
              "       108646.45 , 203439.77 , 229406.89 , 315458.44 , 323178.16 ,\n",
              "       146955.6  , 125670.5  , 113908.75 ,  75632.2  , 124718.99 ,\n",
              "       156265.19 , 135711.64 , 140748.31 , 148864.95 , 145624.12 ,\n",
              "       181710.44 , 264945.6  , 190514.05 , 165388.9  , 186255.19 ,\n",
              "       216170.55 , 121814.086, 140462.7  , 273757.9  , 218893.86 ,\n",
              "       153721.52 , 104780.64 , 132490.81 , 289876.12 , 143170.14 ,\n",
              "       240769.4  , 166361.42 ,  95695.49 , 153016.12 ,  89501.06 ,\n",
              "       284854.4  , 129971.13 , 188959.66 , 123695.1  , 138704.92 ,\n",
              "       345666.72 , 127024.72 , 112735.51 , 245720.5  , 280574.78 ,\n",
              "       128100.08 , 316025.88 , 231496.53 , 143066.52 , 206011.84 ,\n",
              "       381430.1  , 182751.03 , 144136.77 , 260708.4  , 121125.15 ,\n",
              "       183530.86 , 121641.69 , 140582.8  , 149163.08 , 131450.45 ,\n",
              "       211701.14 , 168165.31 ,  87292.61 ,  90397.23 , 130476.53 ,\n",
              "       194182.05 , 173751.83 , 263546.25 , 290425.47 , 181518.84 ,\n",
              "        74500.01 , 132668.98 , 125109.53 , 169678.73 , 140868.16 ,\n",
              "       150037.34 , 249091.23 , 231921.86 , 139628.98 , 195450.19 ,\n",
              "        97006.11 , 154308.95 , 187900.56 , 128093.016, 306659.9  ,\n",
              "       336482.16 , 192868.27 , 117630.7  , 142982.98 , 158676.61 ,\n",
              "       197501.22 , 136904.19 , 115348.64 , 168848.73 , 133997.9  ,\n",
              "       200830.42 , 171546.11 , 214781.03 , 186860.23 , 347360.34 ,\n",
              "       139490.48 , 230176.94 , 180310.45 ,  97653.195, 144769.73 ,\n",
              "       239031.9  , 136749.83 , 157684.7  , 105097.03 , 306179.56 ,\n",
              "       159473.25 , 236731.2  , 157095.03 , 245111.78 , 250896.06 ,\n",
              "       206696.47 , 199971.39 , 164114.34 , 130737.49 , 118051.06 ,\n",
              "       261109.89 , 121042.   , 144849.53 , 100181.44 , 119849.29 ,\n",
              "       156007.73 ,  79021.664, 179619.33 , 296608.28 , 169573.73 ,\n",
              "       291453.9  , 168658.3  , 120077.34 , 202566.47 , 134700.92 ,\n",
              "       238888.3  , 266788.1  , 162170.16 , 182044.81 , 140465.22 ,\n",
              "       111342.66 , 123113.67 , 118477.055, 153917.23 , 181776.6  ,\n",
              "       148497.42 , 378725.1  , 179761.39 , 143116.98 , 179448.61 ,\n",
              "       159673.19 , 124777.3  , 191484.14 ,  95428.09 , 187318.73 ,\n",
              "       182776.55 , 156567.89 , 262482.38 , 120589.03 , 287138.75 ,\n",
              "       183897.67 , 138922.08 , 286689.97 , 188844.83 , 154148.05 ,\n",
              "        77651.88 , 215754.52 , 252208.36 , 150293.02 , 163468.48 ,\n",
              "        99137.07 , 238678.31 , 482356.34 , 187783.61 , 203259.55 ,\n",
              "       169978.23 , 250762.45 , 178903.53 , 208765.61 , 156173.02 ,\n",
              "       162274.67 , 141315.61 , 105182.36 , 132771.56 , 245140.6  ,\n",
              "       228780.5  , 136620.78 , 253538.64 , 148109.52 , 101157.195,\n",
              "       182346.14 , 249333.2  , 230070.83 , 160250.17 , 276343.34 ,\n",
              "       149072.22 , 146257.6  , 132608.62 ,  98488.3  , 221804.78 ,\n",
              "       208619.06 , 128298.87 , 153312.73 , 155783.86 , 201259.8  ,\n",
              "       159897.6  , 132997.78 , 182177.9  , 130241.41 , 120774.95 ,\n",
              "       104319.57 , 155710.47 , 121624.77 , 169982.97 , 176455.05 ,\n",
              "       147675.81 , 305935.34 , 171720.31 , 154546.27 , 142476.5  ,\n",
              "       214420.78 , 137795.81 , 148794.7  , 189305.28 ,  90987.67 ,\n",
              "       193151.6  , 130360.414, 126242.98 , 222745.67 ,  81335.5  ,\n",
              "        95625.195, 201494.16 , 305391.5  , 142314.89 , 249533.72 ,\n",
              "       139694.5  , 203101.47 , 168332.12 , 115619.06 , 112974.38 ,\n",
              "       196215.2  , 119730.85 , 189112.98 , 203983.03 , 197224.9  ,\n",
              "       186725.86 , 339912.75 , 143509.58 , 157556.62 , 259866.98 ,\n",
              "       137473.1  , 179793.92 , 159915.53 , 200065.7  ,  92349.28 ,\n",
              "       109587.63 , 222897.53 , 172936.3  , 108084.57 , 360062.38 ,\n",
              "       112845.04 , 199421.08 , 226745.22 , 137850.44 , 220865.73 ,\n",
              "       182493.9  , 129872.055, 176285.75 , 195730.02 , 240455.77 ,\n",
              "       193340.23 , 118113.34 , 200891.95 , 154063.1  , 332485.47 ,\n",
              "        86371.75 , 159634.81 , 143242.73 , 130732.16 , 218104.9  ,\n",
              "       215904.9  , 191352.03 , 448787.88 , 470971.78 , 194150.95 ,\n",
              "       151160.4  , 146089.98 , 136160.6  , 365284.12 , 142388.19 ,\n",
              "       148564.11 , 205560.42 , 166554.36 , 115837.63 , 182154.52 ,\n",
              "       252178.33 , 170719.94 , 193640.06 ,  81238.3  , 184300.56 ,\n",
              "       187177.38 , 234827.14 , 117888.375, 173252.28 , 176976.25 ,\n",
              "       258305.36 , 101019.016,  98766.484, 150204.08 , 236370.75 ,\n",
              "       116366.32 , 208046.6  , 156752.95 , 118068.99 , 122858.67 ,\n",
              "       176908.45 , 210684.86 ,  94537.47 , 142851.38 ,  99339.016,\n",
              "       186094.97 , 189374.52 , 215519.16 , 155639.02 , 102718.49 ,\n",
              "       141421.78 , 109934.41 , 120561.43 , 350145.44 , 338378.25 ,\n",
              "       150624.8  , 173542.62 , 323970.03 , 114989.43 , 119406.67 ,\n",
              "       197172.53 , 140133.22 , 121891.9  , 140955.92 , 157851.6  ,\n",
              "       213215.48 , 312408.75 , 133743.86 , 371724.47 , 141158.03 ,\n",
              "       236086.08 , 280431.47 ], dtype=float32)"
            ]
          },
          "execution_count": 89,
          "metadata": {},
          "output_type": "execute_result"
        }
      ],
      "source": [
        "y_pred"
      ]
    },
    {
      "cell_type": "code",
      "execution_count": null,
      "metadata": {
        "colab": {
          "base_uri": "https://localhost:8080/"
        },
        "id": "XDZOCTiSaCgk",
        "outputId": "b7cf0594-42f2-42a4-f2b1-f4f6d657fea3"
      },
      "outputs": [
        {
          "name": "stdout",
          "output_type": "stream",
          "text": [
            "[00:40:27] WARNING: /workspace/src/objective/regression_obj.cu:152: reg:linear is now deprecated in favor of reg:squarederror.\n",
            "[00:40:27] WARNING: /workspace/src/objective/regression_obj.cu:152: reg:linear is now deprecated in favor of reg:squarederror.\n",
            "[00:40:27] WARNING: /workspace/src/objective/regression_obj.cu:152: reg:linear is now deprecated in favor of reg:squarederror.\n",
            "[00:40:27] WARNING: /workspace/src/objective/regression_obj.cu:152: reg:linear is now deprecated in favor of reg:squarederror.\n",
            "[00:40:27] WARNING: /workspace/src/objective/regression_obj.cu:152: reg:linear is now deprecated in favor of reg:squarederror.\n",
            "Model Report\n",
            "MSE: 583568600.6955731\n",
            "RMSE: 24157.164583112255\n",
            "CV Score: 810254209.8194467\n"
          ]
        }
      ],
      "source": [
        "#perform cross validation\n",
        "from sklearn.model_selection import cross_val_score\n",
        "cv_score = cross_val_score (pipeline, X, y,\n",
        "       scoring='neg_mean_squared_error', cv=5)\n",
        "cv_score = np.abs(np.mean(cv_score))\n",
        "print('Model Report')\n",
        "print('MSE:' , mean_squared_error(y_test, y_pred))\n",
        "print('RMSE:',math.sqrt(mean_squared_error(y_test, y_pred)))\n",
        "print('CV Score:' , cv_score)\n"
      ]
    },
    {
      "cell_type": "code",
      "execution_count": null,
      "metadata": {
        "id": "YtGELKjqdsuw"
      },
      "outputs": [],
      "source": [
        "prediction = pipeline.predict(test_copy)"
      ]
    },
    {
      "cell_type": "code",
      "execution_count": null,
      "metadata": {
        "colab": {
          "base_uri": "https://localhost:8080/"
        },
        "id": "mEIhuObSJpt0",
        "outputId": "94589384-fa15-4e8e-e2cb-515bf0577362"
      },
      "outputs": [
        {
          "data": {
            "text/plain": [
              "0       125592.437500\n",
              "1       152533.359375\n",
              "2       188974.468750\n",
              "3       184194.125000\n",
              "4       196494.156250\n",
              "            ...      \n",
              "1454     85911.625000\n",
              "1455     91268.742188\n",
              "1456    202248.640625\n",
              "1457    124517.148438\n",
              "1458    247093.984375\n",
              "Name: Id, Length: 1459, dtype: float64"
            ]
          },
          "execution_count": 160,
          "metadata": {},
          "output_type": "execute_result"
        }
      ],
      "source": [
        "Test_data[\"Id\"]+prediction"
      ]
    },
    {
      "cell_type": "code",
      "execution_count": null,
      "metadata": {
        "id": "TbvcIOhkLtqd"
      },
      "outputs": [],
      "source": [
        "##Create Sample Submission file and Submit\n",
        "pred=pd.DataFrame(prediction)\n",
        "sub_df=pd.read_csv('./datakaggle/sample_submission.csv')\n",
        "datasets=pd.concat([sub_df['Id'],pred],axis=1)\n",
        "datasets.columns=['Id','SalePrice']\n",
        "datasets.to_csv('submission.csv', index=False)"
      ]
    },
    {
      "cell_type": "code",
      "execution_count": null,
      "metadata": {
        "colab": {
          "base_uri": "https://localhost:8080/"
        },
        "id": "4XQY-R1XCwDV",
        "outputId": "b4254184-e599-42e9-de3a-9ac2b3d7ada9"
      },
      "outputs": [
        {
          "name": "stdout",
          "output_type": "stream",
          "text": [
            "\r",
            "  0% 0.00/21.1k [00:00<?, ?B/s]\r",
            "100% 21.1k/21.1k [00:00<00:00, 107kB/s]\n",
            "Successfully submitted to House Prices - Advanced Regression Techniques"
          ]
        }
      ],
      "source": [
        "!kaggle competitions submit -c house-prices-advanced-regression-techniques -f submission.csv -m \"Message\""
      ]
    },
    {
      "cell_type": "code",
      "execution_count": null,
      "metadata": {
        "colab": {
          "base_uri": "https://localhost:8080/",
          "height": 424
        },
        "id": "Tte1vfHKMo-_",
        "outputId": "25e6d8fe-6a8b-4585-a913-1375cfdfaaa5"
      },
      "outputs": [
        {
          "data": {
            "text/html": [
              "\n",
              "  <div id=\"df-45c2acdf-c85e-4a23-a72d-9b1922e3c4dd\">\n",
              "    <div class=\"colab-df-container\">\n",
              "      <div>\n",
              "<style scoped>\n",
              "    .dataframe tbody tr th:only-of-type {\n",
              "        vertical-align: middle;\n",
              "    }\n",
              "\n",
              "    .dataframe tbody tr th {\n",
              "        vertical-align: top;\n",
              "    }\n",
              "\n",
              "    .dataframe thead th {\n",
              "        text-align: right;\n",
              "    }\n",
              "</style>\n",
              "<table border=\"1\" class=\"dataframe\">\n",
              "  <thead>\n",
              "    <tr style=\"text-align: right;\">\n",
              "      <th></th>\n",
              "      <th>Id</th>\n",
              "      <th>SalePrice</th>\n",
              "    </tr>\n",
              "  </thead>\n",
              "  <tbody>\n",
              "    <tr>\n",
              "      <th>0</th>\n",
              "      <td>1461</td>\n",
              "      <td>124131.437500</td>\n",
              "    </tr>\n",
              "    <tr>\n",
              "      <th>1</th>\n",
              "      <td>1462</td>\n",
              "      <td>151071.359375</td>\n",
              "    </tr>\n",
              "    <tr>\n",
              "      <th>2</th>\n",
              "      <td>1463</td>\n",
              "      <td>187511.468750</td>\n",
              "    </tr>\n",
              "    <tr>\n",
              "      <th>3</th>\n",
              "      <td>1464</td>\n",
              "      <td>182730.125000</td>\n",
              "    </tr>\n",
              "    <tr>\n",
              "      <th>4</th>\n",
              "      <td>1465</td>\n",
              "      <td>195029.156250</td>\n",
              "    </tr>\n",
              "    <tr>\n",
              "      <th>...</th>\n",
              "      <td>...</td>\n",
              "      <td>...</td>\n",
              "    </tr>\n",
              "    <tr>\n",
              "      <th>1454</th>\n",
              "      <td>2915</td>\n",
              "      <td>82996.625000</td>\n",
              "    </tr>\n",
              "    <tr>\n",
              "      <th>1455</th>\n",
              "      <td>2916</td>\n",
              "      <td>88352.742188</td>\n",
              "    </tr>\n",
              "    <tr>\n",
              "      <th>1456</th>\n",
              "      <td>2917</td>\n",
              "      <td>199331.640625</td>\n",
              "    </tr>\n",
              "    <tr>\n",
              "      <th>1457</th>\n",
              "      <td>2918</td>\n",
              "      <td>121599.148438</td>\n",
              "    </tr>\n",
              "    <tr>\n",
              "      <th>1458</th>\n",
              "      <td>2919</td>\n",
              "      <td>244174.984375</td>\n",
              "    </tr>\n",
              "  </tbody>\n",
              "</table>\n",
              "<p>1459 rows × 2 columns</p>\n",
              "</div>\n",
              "      <button class=\"colab-df-convert\" onclick=\"convertToInteractive('df-45c2acdf-c85e-4a23-a72d-9b1922e3c4dd')\"\n",
              "              title=\"Convert this dataframe to an interactive table.\"\n",
              "              style=\"display:none;\">\n",
              "        \n",
              "  <svg xmlns=\"http://www.w3.org/2000/svg\" height=\"24px\"viewBox=\"0 0 24 24\"\n",
              "       width=\"24px\">\n",
              "    <path d=\"M0 0h24v24H0V0z\" fill=\"none\"/>\n",
              "    <path d=\"M18.56 5.44l.94 2.06.94-2.06 2.06-.94-2.06-.94-.94-2.06-.94 2.06-2.06.94zm-11 1L8.5 8.5l.94-2.06 2.06-.94-2.06-.94L8.5 2.5l-.94 2.06-2.06.94zm10 10l.94 2.06.94-2.06 2.06-.94-2.06-.94-.94-2.06-.94 2.06-2.06.94z\"/><path d=\"M17.41 7.96l-1.37-1.37c-.4-.4-.92-.59-1.43-.59-.52 0-1.04.2-1.43.59L10.3 9.45l-7.72 7.72c-.78.78-.78 2.05 0 2.83L4 21.41c.39.39.9.59 1.41.59.51 0 1.02-.2 1.41-.59l7.78-7.78 2.81-2.81c.8-.78.8-2.07 0-2.86zM5.41 20L4 18.59l7.72-7.72 1.47 1.35L5.41 20z\"/>\n",
              "  </svg>\n",
              "      </button>\n",
              "      \n",
              "  <style>\n",
              "    .colab-df-container {\n",
              "      display:flex;\n",
              "      flex-wrap:wrap;\n",
              "      gap: 12px;\n",
              "    }\n",
              "\n",
              "    .colab-df-convert {\n",
              "      background-color: #E8F0FE;\n",
              "      border: none;\n",
              "      border-radius: 50%;\n",
              "      cursor: pointer;\n",
              "      display: none;\n",
              "      fill: #1967D2;\n",
              "      height: 32px;\n",
              "      padding: 0 0 0 0;\n",
              "      width: 32px;\n",
              "    }\n",
              "\n",
              "    .colab-df-convert:hover {\n",
              "      background-color: #E2EBFA;\n",
              "      box-shadow: 0px 1px 2px rgba(60, 64, 67, 0.3), 0px 1px 3px 1px rgba(60, 64, 67, 0.15);\n",
              "      fill: #174EA6;\n",
              "    }\n",
              "\n",
              "    [theme=dark] .colab-df-convert {\n",
              "      background-color: #3B4455;\n",
              "      fill: #D2E3FC;\n",
              "    }\n",
              "\n",
              "    [theme=dark] .colab-df-convert:hover {\n",
              "      background-color: #434B5C;\n",
              "      box-shadow: 0px 1px 3px 1px rgba(0, 0, 0, 0.15);\n",
              "      filter: drop-shadow(0px 1px 2px rgba(0, 0, 0, 0.3));\n",
              "      fill: #FFFFFF;\n",
              "    }\n",
              "  </style>\n",
              "\n",
              "      <script>\n",
              "        const buttonEl =\n",
              "          document.querySelector('#df-45c2acdf-c85e-4a23-a72d-9b1922e3c4dd button.colab-df-convert');\n",
              "        buttonEl.style.display =\n",
              "          google.colab.kernel.accessAllowed ? 'block' : 'none';\n",
              "\n",
              "        async function convertToInteractive(key) {\n",
              "          const element = document.querySelector('#df-45c2acdf-c85e-4a23-a72d-9b1922e3c4dd');\n",
              "          const dataTable =\n",
              "            await google.colab.kernel.invokeFunction('convertToInteractive',\n",
              "                                                     [key], {});\n",
              "          if (!dataTable) return;\n",
              "\n",
              "          const docLinkHtml = 'Like what you see? Visit the ' +\n",
              "            '<a target=\"_blank\" href=https://colab.research.google.com/notebooks/data_table.ipynb>data table notebook</a>'\n",
              "            + ' to learn more about interactive tables.';\n",
              "          element.innerHTML = '';\n",
              "          dataTable['output_type'] = 'display_data';\n",
              "          await google.colab.output.renderOutput(dataTable, element);\n",
              "          const docLink = document.createElement('div');\n",
              "          docLink.innerHTML = docLinkHtml;\n",
              "          element.appendChild(docLink);\n",
              "        }\n",
              "      </script>\n",
              "    </div>\n",
              "  </div>\n",
              "  "
            ],
            "text/plain": [
              "        Id      SalePrice\n",
              "0     1461  124131.437500\n",
              "1     1462  151071.359375\n",
              "2     1463  187511.468750\n",
              "3     1464  182730.125000\n",
              "4     1465  195029.156250\n",
              "...    ...            ...\n",
              "1454  2915   82996.625000\n",
              "1455  2916   88352.742188\n",
              "1456  2917  199331.640625\n",
              "1457  2918  121599.148438\n",
              "1458  2919  244174.984375\n",
              "\n",
              "[1459 rows x 2 columns]"
            ]
          },
          "execution_count": 163,
          "metadata": {},
          "output_type": "execute_result"
        }
      ],
      "source": [
        "datasets"
      ]
    },
    {
      "cell_type": "markdown",
      "metadata": {
        "id": "rZlHdaZehUw5"
      },
      "source": [
        "##Reseau de neurone"
      ]
    },
    {
      "cell_type": "code",
      "execution_count": null,
      "metadata": {
        "id": "b-XV5wHxT8dH"
      },
      "outputs": [],
      "source": [
        "X_train, X_test, y_train, y_test = train_test_split(X, y, test_size=0.3)"
      ]
    },
    {
      "cell_type": "code",
      "execution_count": null,
      "metadata": {
        "id": "pgiRwM9phTgZ"
      },
      "outputs": [],
      "source": [
        "import torch.nn as nn\n",
        "import torch\n",
        "if torch.cuda.is_available(): device = torch.device(\"cuda\")\n",
        "else : device = torch.device(\"cpu\")\n",
        "class LinearRegressionRN(nn.Module):\n",
        "  def __init__(self, input_size):\n",
        "    super(LinearRegressionRN, self).__init__()\n",
        "    self.act1 = nn.ReLU()\n",
        "    self.lay1 = nn.Linear(input_size, 50)\n",
        "    self.lay2 = nn.Linear(50, 1)\n",
        "\n",
        "  def forward(self, x):\n",
        "    x = self.lay1(x)\n",
        "    x = self.act1(x)\n",
        "    x = self.lay2(x)\n",
        "    return x\n",
        "\n"
      ]
    },
    {
      "cell_type": "code",
      "execution_count": null,
      "metadata": {
        "id": "cxllQYLrobiu"
      },
      "outputs": [],
      "source": [
        "import torch\n",
        "import torch.nn as nn\n",
        "from torch.autograd import Variable\n",
        "import torch.functional as F\n",
        "from torch.utils.data import Dataset, DataLoader\n",
        "from torch.utils.data.sampler import SubsetRandomSampler\n",
        "from torch.utils.tensorboard import SummaryWriter\n",
        "\n",
        "import numpy as np\n",
        "from sklearn.preprocessing import StandardScaler\n",
        "from sklearn.model_selection import train_test_split\n",
        "\n",
        "\n",
        "input_size = X_train.shape[1]\n",
        "learning_rate = 0.01\n",
        "batch_size = 10\n",
        "num_epochs = 100\n",
        "\n",
        "class PrepareData(Dataset):\n",
        "\n",
        "    def __init__(self, X, y, scale_X=True):\n",
        "        if not torch.is_tensor(X):\n",
        "            if scale_X:\n",
        "                X = StandardScaler().fit_transform(X)\n",
        "                self.X = torch.from_numpy(X).float()\n",
        "        if not torch.is_tensor(y):\n",
        "            self.y = torch.from_numpy(y).float()\n",
        "\n",
        "    def __len__(self):\n",
        "        return len(self.X)\n",
        "\n",
        "    def __getitem__(self, idx):\n",
        "        return self.X[idx], self.y[idx]\n"
      ]
    },
    {
      "cell_type": "code",
      "execution_count": null,
      "metadata": {
        "id": "d-YcxAi8q1Ig"
      },
      "outputs": [],
      "source": [
        "train_data = PrepareData(X_train.values, y=y_train.values, scale_X=True)\n",
        "test_data = PrepareData(X_test.values, y=y_test.values, scale_X=True)"
      ]
    },
    {
      "cell_type": "code",
      "execution_count": null,
      "metadata": {
        "id": "hGvMvUr3rcaO"
      },
      "outputs": [],
      "source": [
        "train_data_loader = DataLoader(train_data, batch_size=batch_size)\n",
        "test_data_loader = DataLoader(test_data, batch_size=batch_size)"
      ]
    },
    {
      "cell_type": "code",
      "execution_count": null,
      "metadata": {
        "id": "fmE0xsWGrtCB"
      },
      "outputs": [],
      "source": [
        "m = LinearRegressionRN(input_size=input_size).to(device)\n",
        "\n",
        "\n",
        "cost_func = nn.MSELoss()\n",
        "optimizer = torch.optim.Adam(m.parameters(), lr=learning_rate)"
      ]
    },
    {
      "cell_type": "code",
      "execution_count": null,
      "metadata": {
        "colab": {
          "base_uri": "https://localhost:8080/"
        },
        "id": "BCW4zPPPSUD4",
        "outputId": "04859799-40d7-42cd-cd43-22bc9c7c0550"
      },
      "outputs": [
        {
          "name": "stdout",
          "output_type": "stream",
          "text": [
            "The tensorboard extension is already loaded. To reload it, use:\n",
            "  %reload_ext tensorboard\n"
          ]
        }
      ],
      "source": [
        "%load_ext tensorboard"
      ]
    },
    {
      "cell_type": "code",
      "execution_count": null,
      "metadata": {
        "colab": {
          "base_uri": "https://localhost:8080/"
        },
        "id": "_d7a1pbEtbi7",
        "outputId": "6b23d55b-eb0c-4be5-de6b-b450ce930836"
      },
      "outputs": [
        {
          "name": "stdout",
          "output_type": "stream",
          "text": [
            "Epoch [0/100], Train Batch loss: 36856.842\n",
            "Epoch [0/100], Text Batch loss: 40056.09\n",
            "Epoch [5/100], Train Batch loss: 35535.882\n",
            "Epoch [5/100], Text Batch loss: 38850.632\n",
            "Epoch [10/100], Train Batch loss: 34349.849\n",
            "Epoch [10/100], Text Batch loss: 37728.936\n",
            "Epoch [15/100], Train Batch loss: 33328.193\n",
            "Epoch [15/100], Text Batch loss: 36790.997\n",
            "Epoch [20/100], Train Batch loss: 32406.388\n",
            "Epoch [20/100], Text Batch loss: 35900.566\n",
            "Epoch [25/100], Train Batch loss: 31582.939\n",
            "Epoch [25/100], Text Batch loss: 35119.182\n",
            "Epoch [30/100], Train Batch loss: 30885.539\n",
            "Epoch [30/100], Text Batch loss: 34455.338\n",
            "Epoch [35/100], Train Batch loss: 30247.406\n",
            "Epoch [35/100], Text Batch loss: 33869.235\n",
            "Epoch [40/100], Train Batch loss: 29667.148\n",
            "Epoch [40/100], Text Batch loss: 33335.189\n",
            "Epoch [45/100], Train Batch loss: 29133.615\n",
            "Epoch [45/100], Text Batch loss: 32837.894\n",
            "Epoch [50/100], Train Batch loss: 28647.396\n",
            "Epoch [50/100], Text Batch loss: 32394.127\n",
            "Epoch [55/100], Train Batch loss: 28200.81\n",
            "Epoch [55/100], Text Batch loss: 31979.159\n",
            "Epoch [60/100], Train Batch loss: 27793.679\n",
            "Epoch [60/100], Text Batch loss: 31619.197\n",
            "Epoch [65/100], Train Batch loss: 27416.253\n",
            "Epoch [65/100], Text Batch loss: 31288.036\n",
            "Epoch [70/100], Train Batch loss: 27069.607\n",
            "Epoch [70/100], Text Batch loss: 31009.252\n",
            "Epoch [75/100], Train Batch loss: 26743.368\n",
            "Epoch [75/100], Text Batch loss: 30743.748\n",
            "Epoch [80/100], Train Batch loss: 26453.503\n",
            "Epoch [80/100], Text Batch loss: 30526.164\n",
            "Epoch [85/100], Train Batch loss: 26190.906\n",
            "Epoch [85/100], Text Batch loss: 30346.687\n",
            "Epoch [90/100], Train Batch loss: 25949.519\n",
            "Epoch [90/100], Text Batch loss: 30183.395\n",
            "Epoch [95/100], Train Batch loss: 25730.073\n",
            "Epoch [95/100], Text Batch loss: 30040.663\n"
          ]
        }
      ],
      "source": [
        "# initaliser le writer pour le tensorbord\n",
        "writer = SummaryWriter(\"logs/houseprice/\")\n",
        "\n",
        "for e in range(num_epochs):\n",
        "    # get the batch loss\n",
        "    batch_losses = []\n",
        "    for ix, (Xb, yb) in enumerate(train_data_loader):\n",
        "        Xb = Xb.to(device)\n",
        "        yb = yb.to(device)\n",
        "        y_pred = torch.reshape(m(Xb), (-1,))\n",
        "        loss = cost_func(y_pred, yb)\n",
        "\n",
        "        optimizer.zero_grad()\n",
        "        loss.backward()\n",
        "        optimizer.step()\n",
        "\n",
        "        batch_losses.append(loss.item())\n",
        "\n",
        "    test_losses = []\n",
        "    for idx, (_X, _y) in enumerate(test_data_loader):\n",
        "        _X = _X.to(device)\n",
        "        _y = _y.to(device)\n",
        "        test_preds = m(_X)\n",
        "        test_loss = cost_func(torch.reshape(test_preds, (-1,)), _y)\n",
        "\n",
        "        test_losses.append(test_loss.item())\n",
        "\n",
        "    mean_train_loss = np.mean(np.sqrt(batch_losses)).round(3)\n",
        "    mean_test_loss = np.mean(np.sqrt(test_losses)).round(3)\n",
        "\n",
        "    writer.add_scalars('Perte', {'train': mean_train_loss}, e)\n",
        "    writer.add_scalars('Perte', {'test':mean_test_loss}, e)\n",
        "\n",
        "\n",
        "\n",
        "\n",
        "\n",
        "    if e % 5 == 0:\n",
        "        print(\"Epoch [{}/{}], Train Batch loss: {}\".format(e, num_epochs, mean_train_loss))\n",
        "        print(\"Epoch [{}/{}], Text Batch loss: {}\".format(e, num_epochs, mean_test_loss))\n",
        "\n",
        "\n",
        "writer.flush()\n",
        "writer.close()"
      ]
    },
    {
      "cell_type": "code",
      "execution_count": null,
      "metadata": {
        "colab": {
          "base_uri": "https://localhost:8080/",
          "height": 839
        },
        "id": "5-n-EhH5ZPms",
        "outputId": "52d69a0a-90de-462f-80a6-a8e7d6a6a5da"
      },
      "outputs": [],
      "source": [
        "%tensorboard --logdir \"logs/houseprice/\""
      ]
    },
    {
      "cell_type": "code",
      "execution_count": null,
      "metadata": {
        "id": "WrgLtEJbkbVU"
      },
      "outputs": [],
      "source": [
        "X_test = torch.from_numpy(X_test.values).float()"
      ]
    },
    {
      "cell_type": "code",
      "execution_count": null,
      "metadata": {
        "colab": {
          "base_uri": "https://localhost:8080/"
        },
        "id": "7uILtkbEj2rD",
        "outputId": "33318813-346a-4955-8274-0f211d017656"
      },
      "outputs": [
        {
          "data": {
            "text/plain": [
              "tensor([[1.3821e+08],\n",
              "        [1.5243e+08],\n",
              "        [1.4230e+08],\n",
              "        [1.1379e+08],\n",
              "        [1.2809e+08],\n",
              "        [1.2689e+08],\n",
              "        [1.4278e+08],\n",
              "        [1.1454e+08],\n",
              "        [1.5364e+08],\n",
              "        [1.4703e+08],\n",
              "        [1.2441e+08],\n",
              "        [1.2169e+08],\n",
              "        [1.5103e+08],\n",
              "        [1.4280e+08],\n",
              "        [1.3263e+08],\n",
              "        [1.1550e+08],\n",
              "        [1.2855e+08],\n",
              "        [1.3841e+08],\n",
              "        [1.2119e+08],\n",
              "        [1.3296e+08],\n",
              "        [1.1549e+08],\n",
              "        [1.4841e+08],\n",
              "        [1.0793e+08],\n",
              "        [1.3768e+08],\n",
              "        [1.3940e+08],\n",
              "        [1.3855e+08],\n",
              "        [1.3317e+08],\n",
              "        [1.3726e+08],\n",
              "        [1.3747e+08],\n",
              "        [1.2103e+08],\n",
              "        [1.1882e+08],\n",
              "        [1.1604e+08],\n",
              "        [1.3209e+08],\n",
              "        [1.4647e+08],\n",
              "        [1.2386e+08],\n",
              "        [1.3299e+08],\n",
              "        [1.3593e+08],\n",
              "        [1.9526e+08],\n",
              "        [1.3687e+08],\n",
              "        [1.2897e+08],\n",
              "        [1.3760e+08],\n",
              "        [1.4864e+08],\n",
              "        [1.3525e+08],\n",
              "        [1.6106e+08],\n",
              "        [1.1994e+08],\n",
              "        [1.2928e+08],\n",
              "        [1.9007e+08],\n",
              "        [1.2559e+08],\n",
              "        [1.4705e+08],\n",
              "        [1.5636e+08],\n",
              "        [1.8702e+08],\n",
              "        [1.1645e+08],\n",
              "        [1.2996e+08],\n",
              "        [1.3744e+08],\n",
              "        [1.0062e+08],\n",
              "        [1.5025e+08],\n",
              "        [1.1809e+08],\n",
              "        [1.3905e+08],\n",
              "        [1.1577e+08],\n",
              "        [1.0752e+08],\n",
              "        [1.2196e+08],\n",
              "        [1.7315e+08],\n",
              "        [1.2174e+08],\n",
              "        [1.5180e+08],\n",
              "        [1.0207e+08],\n",
              "        [1.1924e+08],\n",
              "        [1.0974e+08],\n",
              "        [1.3860e+08],\n",
              "        [1.5760e+08],\n",
              "        [1.5959e+08],\n",
              "        [1.4471e+08],\n",
              "        [1.2393e+08],\n",
              "        [1.1877e+08],\n",
              "        [1.5372e+08],\n",
              "        [1.0799e+08],\n",
              "        [1.5549e+08],\n",
              "        [1.3395e+08],\n",
              "        [1.1254e+08],\n",
              "        [1.6586e+08],\n",
              "        [1.4292e+08],\n",
              "        [1.1985e+08],\n",
              "        [1.5760e+08],\n",
              "        [1.3401e+08],\n",
              "        [1.5619e+08],\n",
              "        [1.2805e+08],\n",
              "        [1.1658e+08],\n",
              "        [1.6842e+08],\n",
              "        [1.4393e+08],\n",
              "        [1.2687e+08],\n",
              "        [1.2869e+08],\n",
              "        [1.3024e+08],\n",
              "        [1.1467e+08],\n",
              "        [1.5926e+08],\n",
              "        [1.3794e+08],\n",
              "        [1.5299e+08],\n",
              "        [1.3763e+08],\n",
              "        [1.3695e+08],\n",
              "        [1.4662e+08],\n",
              "        [1.1433e+08],\n",
              "        [1.5200e+08],\n",
              "        [1.0531e+08],\n",
              "        [1.4940e+08],\n",
              "        [1.2700e+08],\n",
              "        [1.1767e+08],\n",
              "        [1.4337e+08],\n",
              "        [1.5785e+08],\n",
              "        [1.4134e+08],\n",
              "        [1.7218e+08],\n",
              "        [1.3989e+08],\n",
              "        [1.5248e+08],\n",
              "        [1.3342e+08],\n",
              "        [1.5290e+08],\n",
              "        [1.5144e+08],\n",
              "        [1.2690e+08],\n",
              "        [1.6126e+08],\n",
              "        [1.3187e+08],\n",
              "        [1.3337e+08],\n",
              "        [1.1682e+08],\n",
              "        [1.3002e+08],\n",
              "        [1.3392e+08],\n",
              "        [1.5135e+08],\n",
              "        [1.4225e+08],\n",
              "        [1.2936e+08],\n",
              "        [1.3669e+08],\n",
              "        [1.5264e+08],\n",
              "        [1.1336e+08],\n",
              "        [1.0963e+08],\n",
              "        [1.5102e+08],\n",
              "        [1.3762e+08],\n",
              "        [1.3597e+08],\n",
              "        [1.2492e+08],\n",
              "        [1.6582e+08],\n",
              "        [1.7217e+08],\n",
              "        [1.2713e+08],\n",
              "        [1.4210e+08],\n",
              "        [1.2577e+08],\n",
              "        [1.3084e+08],\n",
              "        [1.3037e+08],\n",
              "        [1.0936e+09],\n",
              "        [1.7539e+08],\n",
              "        [1.1754e+08],\n",
              "        [1.4416e+08],\n",
              "        [1.1919e+08],\n",
              "        [1.5088e+08],\n",
              "        [1.3826e+08],\n",
              "        [1.1751e+08],\n",
              "        [1.1837e+08],\n",
              "        [1.1806e+08],\n",
              "        [1.3550e+08],\n",
              "        [1.0919e+08],\n",
              "        [1.4345e+08],\n",
              "        [1.3451e+08],\n",
              "        [1.3035e+08],\n",
              "        [1.3209e+08],\n",
              "        [1.1693e+08],\n",
              "        [1.2721e+08],\n",
              "        [1.2839e+08],\n",
              "        [1.1184e+08],\n",
              "        [1.4841e+08],\n",
              "        [1.3346e+08],\n",
              "        [1.2912e+08],\n",
              "        [1.1159e+08],\n",
              "        [1.2660e+08],\n",
              "        [1.4237e+08],\n",
              "        [1.2815e+08],\n",
              "        [7.9896e+08],\n",
              "        [1.2560e+08],\n",
              "        [1.2594e+08],\n",
              "        [1.1409e+08],\n",
              "        [1.3086e+08],\n",
              "        [1.3511e+08],\n",
              "        [1.4576e+08],\n",
              "        [1.1105e+08],\n",
              "        [1.3950e+08],\n",
              "        [1.2021e+08],\n",
              "        [1.3357e+08],\n",
              "        [1.6114e+08],\n",
              "        [1.4477e+08],\n",
              "        [1.5285e+08],\n",
              "        [1.4238e+08],\n",
              "        [1.7218e+08],\n",
              "        [1.0013e+08],\n",
              "        [1.1127e+08],\n",
              "        [1.5365e+08],\n",
              "        [1.6206e+08],\n",
              "        [1.1533e+08],\n",
              "        [1.4869e+08],\n",
              "        [1.6255e+08],\n",
              "        [1.6716e+08],\n",
              "        [1.1869e+08],\n",
              "        [1.3649e+08],\n",
              "        [1.1882e+08],\n",
              "        [1.2705e+08],\n",
              "        [2.7965e+08],\n",
              "        [1.2788e+08],\n",
              "        [1.2646e+08],\n",
              "        [1.5881e+08],\n",
              "        [1.0791e+08],\n",
              "        [1.3736e+08],\n",
              "        [1.7882e+08],\n",
              "        [1.2182e+08],\n",
              "        [1.5063e+08],\n",
              "        [1.2932e+08],\n",
              "        [1.2523e+08],\n",
              "        [1.2833e+08],\n",
              "        [1.4602e+08],\n",
              "        [1.6225e+08],\n",
              "        [1.7560e+08],\n",
              "        [1.1481e+08],\n",
              "        [1.9853e+08],\n",
              "        [1.3427e+08],\n",
              "        [1.3748e+08],\n",
              "        [1.3268e+08],\n",
              "        [1.2168e+08],\n",
              "        [1.2420e+08],\n",
              "        [1.2379e+08],\n",
              "        [1.6595e+08],\n",
              "        [1.3470e+08],\n",
              "        [1.6922e+08],\n",
              "        [1.2491e+08],\n",
              "        [1.1888e+08],\n",
              "        [1.4795e+08],\n",
              "        [1.1929e+08],\n",
              "        [1.1296e+08],\n",
              "        [1.7900e+08],\n",
              "        [1.2498e+08],\n",
              "        [1.3105e+08],\n",
              "        [1.2554e+08],\n",
              "        [1.1572e+08],\n",
              "        [1.3136e+08],\n",
              "        [1.1718e+08],\n",
              "        [1.3018e+08],\n",
              "        [1.2245e+08],\n",
              "        [1.1635e+08],\n",
              "        [1.4979e+08],\n",
              "        [1.2881e+08],\n",
              "        [1.6077e+08],\n",
              "        [1.2732e+08],\n",
              "        [1.3808e+08],\n",
              "        [1.3575e+08],\n",
              "        [1.3048e+08],\n",
              "        [1.4367e+08],\n",
              "        [1.2628e+08],\n",
              "        [1.1171e+08],\n",
              "        [1.1258e+08],\n",
              "        [1.3399e+08],\n",
              "        [1.2629e+08],\n",
              "        [1.0315e+08],\n",
              "        [1.5032e+08],\n",
              "        [1.4022e+08],\n",
              "        [1.1259e+08],\n",
              "        [1.2933e+08],\n",
              "        [1.1652e+08],\n",
              "        [1.3539e+08],\n",
              "        [1.5119e+08],\n",
              "        [1.8952e+08],\n",
              "        [1.4274e+08],\n",
              "        [1.4647e+08],\n",
              "        [1.2373e+08],\n",
              "        [1.2220e+08],\n",
              "        [1.2419e+08],\n",
              "        [1.6182e+08],\n",
              "        [1.4709e+08],\n",
              "        [1.5452e+08],\n",
              "        [2.3134e+08],\n",
              "        [1.2534e+08],\n",
              "        [1.0505e+08],\n",
              "        [1.1082e+08],\n",
              "        [1.4060e+08],\n",
              "        [1.0915e+08],\n",
              "        [1.3127e+08],\n",
              "        [1.7083e+08],\n",
              "        [1.4249e+08],\n",
              "        [1.4420e+08],\n",
              "        [1.2264e+08],\n",
              "        [1.2952e+08],\n",
              "        [1.5521e+08],\n",
              "        [1.4550e+08],\n",
              "        [1.2950e+08],\n",
              "        [1.2928e+08],\n",
              "        [1.1123e+08],\n",
              "        [1.8414e+08],\n",
              "        [1.1782e+08],\n",
              "        [1.2488e+08],\n",
              "        [1.3020e+08],\n",
              "        [1.3509e+08],\n",
              "        [1.3669e+08],\n",
              "        [1.4684e+08],\n",
              "        [1.4042e+08],\n",
              "        [1.1716e+08],\n",
              "        [1.1878e+08],\n",
              "        [1.1932e+08],\n",
              "        [1.2663e+08],\n",
              "        [1.3215e+08],\n",
              "        [1.4133e+08],\n",
              "        [1.2041e+08],\n",
              "        [1.0168e+08],\n",
              "        [1.4179e+08],\n",
              "        [1.3338e+08],\n",
              "        [1.1785e+08],\n",
              "        [1.1491e+08],\n",
              "        [1.5308e+08],\n",
              "        [1.1571e+08],\n",
              "        [1.7745e+08],\n",
              "        [1.3092e+08],\n",
              "        [1.3523e+08],\n",
              "        [1.3662e+08],\n",
              "        [1.5236e+08],\n",
              "        [1.5365e+08],\n",
              "        [1.3552e+08],\n",
              "        [1.5927e+08],\n",
              "        [1.5327e+08],\n",
              "        [1.2321e+08],\n",
              "        [1.2079e+08],\n",
              "        [1.2287e+08],\n",
              "        [1.2375e+08],\n",
              "        [1.5992e+08],\n",
              "        [1.3582e+08],\n",
              "        [1.1185e+08],\n",
              "        [1.5418e+08],\n",
              "        [1.5832e+08],\n",
              "        [1.7214e+08],\n",
              "        [1.3391e+08],\n",
              "        [1.5860e+08],\n",
              "        [1.1750e+08],\n",
              "        [1.4503e+08],\n",
              "        [1.1876e+08],\n",
              "        [1.3289e+08],\n",
              "        [1.2209e+08],\n",
              "        [1.2102e+08],\n",
              "        [1.2575e+08],\n",
              "        [1.4876e+08],\n",
              "        [1.5637e+08],\n",
              "        [1.3333e+08],\n",
              "        [1.3538e+08],\n",
              "        [1.3022e+08],\n",
              "        [1.0945e+08],\n",
              "        [1.2303e+08],\n",
              "        [1.6273e+08],\n",
              "        [1.2333e+08],\n",
              "        [1.6077e+08],\n",
              "        [1.0274e+08],\n",
              "        [1.3840e+08],\n",
              "        [1.1578e+08],\n",
              "        [1.3438e+08],\n",
              "        [1.1598e+08],\n",
              "        [1.4110e+08],\n",
              "        [1.5027e+08],\n",
              "        [1.4863e+08],\n",
              "        [1.5991e+08],\n",
              "        [1.1023e+08],\n",
              "        [1.0933e+08],\n",
              "        [1.1682e+08],\n",
              "        [1.2921e+08],\n",
              "        [1.2606e+08],\n",
              "        [1.1918e+08],\n",
              "        [1.2996e+08],\n",
              "        [2.8243e+08],\n",
              "        [1.2412e+08],\n",
              "        [1.2175e+08],\n",
              "        [1.3299e+08],\n",
              "        [1.0438e+08],\n",
              "        [1.3331e+08],\n",
              "        [1.2390e+08],\n",
              "        [1.2949e+08],\n",
              "        [1.3115e+08],\n",
              "        [1.3475e+08],\n",
              "        [1.3220e+08],\n",
              "        [1.2475e+08],\n",
              "        [1.3921e+08],\n",
              "        [1.2583e+08],\n",
              "        [1.0119e+08],\n",
              "        [1.2319e+08],\n",
              "        [1.5650e+08],\n",
              "        [1.3480e+08],\n",
              "        [1.1799e+08],\n",
              "        [1.3351e+08],\n",
              "        [1.1670e+08],\n",
              "        [1.0308e+08],\n",
              "        [1.6707e+08],\n",
              "        [1.5977e+08],\n",
              "        [1.4071e+08],\n",
              "        [1.5754e+08],\n",
              "        [1.3514e+08],\n",
              "        [1.3334e+08],\n",
              "        [1.4168e+08],\n",
              "        [1.1917e+08],\n",
              "        [1.3336e+08],\n",
              "        [1.4180e+08],\n",
              "        [1.1925e+08],\n",
              "        [1.1746e+08],\n",
              "        [1.1277e+08],\n",
              "        [1.0655e+08],\n",
              "        [1.2246e+08],\n",
              "        [1.1457e+08],\n",
              "        [1.2675e+08],\n",
              "        [1.4557e+08],\n",
              "        [1.3347e+08],\n",
              "        [1.0674e+08],\n",
              "        [1.2963e+08],\n",
              "        [1.5884e+08],\n",
              "        [1.6289e+08],\n",
              "        [1.2264e+08],\n",
              "        [1.2084e+08],\n",
              "        [1.6115e+08],\n",
              "        [1.0427e+08],\n",
              "        [1.5294e+08],\n",
              "        [1.2899e+08],\n",
              "        [1.1926e+08],\n",
              "        [1.2030e+08],\n",
              "        [1.8173e+08],\n",
              "        [1.3289e+08],\n",
              "        [1.4203e+08],\n",
              "        [1.2415e+08],\n",
              "        [1.3539e+08],\n",
              "        [1.2762e+08],\n",
              "        [1.5287e+08],\n",
              "        [1.6049e+08],\n",
              "        [1.2132e+08],\n",
              "        [1.7878e+08],\n",
              "        [1.2296e+08],\n",
              "        [1.2754e+08],\n",
              "        [1.3788e+08],\n",
              "        [1.3000e+08],\n",
              "        [1.4599e+08],\n",
              "        [1.1573e+08],\n",
              "        [1.4158e+08]], grad_fn=<AddmmBackward0>)"
            ]
          },
          "execution_count": 211,
          "metadata": {},
          "output_type": "execute_result"
        }
      ],
      "source": [
        "y_pred = m(X_test)\n",
        "y_pred"
      ]
    }
  ],
  "metadata": {
    "colab": {
      "collapsed_sections": [
        "RO5d3jZ5wiMS",
        "hZnOEiuEvtaP",
        "rZlHdaZehUw5"
      ],
      "provenance": [],
      "include_colab_link": true
    },
    "kernelspec": {
      "display_name": "Python 3 (ipykernel)",
      "language": "python",
      "name": "python3"
    },
    "language_info": {
      "codemirror_mode": {
        "name": "ipython",
        "version": 3
      },
      "file_extension": ".py",
      "mimetype": "text/x-python",
      "name": "python",
      "nbconvert_exporter": "python",
      "pygments_lexer": "ipython3",
      "version": "3.9.7"
    }
  },
  "nbformat": 4,
  "nbformat_minor": 0
}